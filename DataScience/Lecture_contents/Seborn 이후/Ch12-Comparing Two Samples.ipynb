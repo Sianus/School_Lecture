{
  "cells": [
    {
      "cell_type": "markdown",
      "metadata": {
        "id": "ZGpKsKHJ6meA"
      },
      "source": [
        "> # Chapter 12. Comparing Two Samples\n",
        "---\n",
        "\n",
        "\n",
        "\n",
        "### 1. A/B Testing \n",
        "\n",
        "\n",
        "### 2.  Causality \n",
        "\n",
        "\n"
      ]
    },
    {
      "cell_type": "code",
      "execution_count": 1,
      "metadata": {
        "colab": {
          "base_uri": "https://localhost:8080/"
        },
        "id": "sb5UtV_a6meH",
        "outputId": "bc67f9b0-639c-4fc1-8ef2-ddb05ec50375"
      },
      "outputs": [
        {
          "output_type": "stream",
          "name": "stderr",
          "text": [
            "/usr/local/lib/python3.7/dist-packages/datascience/tables.py:17: MatplotlibDeprecationWarning: The 'warn' parameter of use() is deprecated since Matplotlib 3.1 and will be removed in 3.3.  If any parameter follows 'warn', they should be pass as keyword, not positionally.\n",
            "  matplotlib.use('agg', warn=False)\n",
            "/usr/local/lib/python3.7/dist-packages/datascience/util.py:10: MatplotlibDeprecationWarning: The 'warn' parameter of use() is deprecated since Matplotlib 3.1 and will be removed in 3.3.  If any parameter follows 'warn', they should be pass as keyword, not positionally.\n",
            "  matplotlib.use('agg', warn=False)\n"
          ]
        }
      ],
      "source": [
        "# HIDDEN\n",
        "from datascience import *\n",
        "import numpy as np\n",
        "\n",
        "import matplotlib\n",
        "matplotlib.use('Agg')\n",
        "%matplotlib inline\n",
        "import matplotlib.pyplot as plots\n",
        "plots.style.use('fivethirtyeight')\n",
        "np.set_printoptions(threshold=50)\n",
        "fpath='https://raw.githubusercontent.com/data-8/textbook/878363106db4313de925a709b1617d6f328c56a1/assets/data/'"
      ]
    },
    {
      "cell_type": "markdown",
      "metadata": {
        "id": "rH_Zub9P6meU"
      },
      "source": [
        "+ 앞 장에서는 하나의 sample 그룹을 생성하여 관찰값과 비교\n",
        "+ 이 장에서는 두개의 sample 그룹에 대해 상호비교하는 응용문제를 다룬다."
      ]
    },
    {
      "cell_type": "markdown",
      "metadata": {
        "id": "U4US3I1P6meW"
      },
      "source": [
        "> A/B Testing \n",
        "+ 어떤 두 그룹이 같은 분포로부터 샘플링 된 것인지를 판단\n",
        "+ 산모흡연과 아기발육에 관한 다음 데이터를 가지고 연습해 보자.(A/B는 산모의 흡연 여부)"
      ]
    },
    {
      "cell_type": "code",
      "execution_count": 2,
      "metadata": {
        "colab": {
          "base_uri": "https://localhost:8080/",
          "height": 392
        },
        "id": "KKyf3ajD6meX",
        "outputId": "980d8b7d-3b10-47a4-8f71-0030a2a37e0a"
      },
      "outputs": [
        {
          "output_type": "execute_result",
          "data": {
            "text/plain": [
              "Birth Weight | Gestational Days | Maternal Age | Maternal Height | Maternal Pregnancy Weight | Maternal Smoker\n",
              "120          | 284              | 27           | 62              | 100                       | False\n",
              "113          | 282              | 33           | 64              | 135                       | False\n",
              "128          | 279              | 28           | 64              | 115                       | True\n",
              "108          | 282              | 23           | 67              | 125                       | True\n",
              "136          | 286              | 25           | 62              | 93                        | False\n",
              "138          | 244              | 33           | 62              | 178                       | False\n",
              "132          | 245              | 23           | 65              | 140                       | False\n",
              "120          | 289              | 25           | 62              | 125                       | False\n",
              "143          | 299              | 30           | 66              | 136                       | True\n",
              "140          | 351              | 27           | 68              | 120                       | False\n",
              "... (1164 rows omitted)"
            ],
            "text/html": [
              "<table border=\"1\" class=\"dataframe\">\n",
              "    <thead>\n",
              "        <tr>\n",
              "            <th>Birth Weight</th> <th>Gestational Days</th> <th>Maternal Age</th> <th>Maternal Height</th> <th>Maternal Pregnancy Weight</th> <th>Maternal Smoker</th>\n",
              "        </tr>\n",
              "    </thead>\n",
              "    <tbody>\n",
              "        <tr>\n",
              "            <td>120         </td> <td>284             </td> <td>27          </td> <td>62             </td> <td>100                      </td> <td>False          </td>\n",
              "        </tr>\n",
              "        <tr>\n",
              "            <td>113         </td> <td>282             </td> <td>33          </td> <td>64             </td> <td>135                      </td> <td>False          </td>\n",
              "        </tr>\n",
              "        <tr>\n",
              "            <td>128         </td> <td>279             </td> <td>28          </td> <td>64             </td> <td>115                      </td> <td>True           </td>\n",
              "        </tr>\n",
              "        <tr>\n",
              "            <td>108         </td> <td>282             </td> <td>23          </td> <td>67             </td> <td>125                      </td> <td>True           </td>\n",
              "        </tr>\n",
              "        <tr>\n",
              "            <td>136         </td> <td>286             </td> <td>25          </td> <td>62             </td> <td>93                       </td> <td>False          </td>\n",
              "        </tr>\n",
              "        <tr>\n",
              "            <td>138         </td> <td>244             </td> <td>33          </td> <td>62             </td> <td>178                      </td> <td>False          </td>\n",
              "        </tr>\n",
              "        <tr>\n",
              "            <td>132         </td> <td>245             </td> <td>23          </td> <td>65             </td> <td>140                      </td> <td>False          </td>\n",
              "        </tr>\n",
              "        <tr>\n",
              "            <td>120         </td> <td>289             </td> <td>25          </td> <td>62             </td> <td>125                      </td> <td>False          </td>\n",
              "        </tr>\n",
              "        <tr>\n",
              "            <td>143         </td> <td>299             </td> <td>30          </td> <td>66             </td> <td>136                      </td> <td>True           </td>\n",
              "        </tr>\n",
              "        <tr>\n",
              "            <td>140         </td> <td>351             </td> <td>27          </td> <td>68             </td> <td>120                      </td> <td>False          </td>\n",
              "        </tr>\n",
              "    </tbody>\n",
              "</table>\n",
              "<p>... (1164 rows omitted)</p>"
            ]
          },
          "metadata": {},
          "execution_count": 2
        }
      ],
      "source": [
        "baby = Table.read_table(fpath+'baby.csv') # 아기와 산모에 관한 data\n",
        "baby"
      ]
    },
    {
      "cell_type": "code",
      "execution_count": 3,
      "metadata": {
        "id": "6u2xkr6A6mei"
      },
      "outputs": [],
      "source": [
        "smoking_and_birthweight = baby.select('Maternal Smoker', 'Birth Weight')"
      ]
    },
    {
      "cell_type": "code",
      "execution_count": 4,
      "metadata": {
        "colab": {
          "base_uri": "https://localhost:8080/",
          "height": 112
        },
        "id": "snBcZVtP6mes",
        "outputId": "51538f66-9ae7-48de-9562-b6f930b38437"
      },
      "outputs": [
        {
          "output_type": "execute_result",
          "data": {
            "text/plain": [
              "Maternal Smoker | count\n",
              "False           | 715\n",
              "True            | 459"
            ],
            "text/html": [
              "<table border=\"1\" class=\"dataframe\">\n",
              "    <thead>\n",
              "        <tr>\n",
              "            <th>Maternal Smoker</th> <th>count</th>\n",
              "        </tr>\n",
              "    </thead>\n",
              "    <tbody>\n",
              "        <tr>\n",
              "            <td>False          </td> <td>715  </td>\n",
              "        </tr>\n",
              "        <tr>\n",
              "            <td>True           </td> <td>459  </td>\n",
              "        </tr>\n",
              "    </tbody>\n",
              "</table>"
            ]
          },
          "metadata": {},
          "execution_count": 4
        }
      ],
      "source": [
        "smoking_and_birthweight.group('Maternal Smoker')"
      ]
    },
    {
      "cell_type": "markdown",
      "metadata": {
        "id": "noWJMecg6mey"
      },
      "source": [
        "Note)\n",
        "+ Overlaid histogram 도 다음과 같이 가능하다."
      ]
    },
    {
      "cell_type": "code",
      "execution_count": 5,
      "metadata": {
        "colab": {
          "base_uri": "https://localhost:8080/",
          "height": 392
        },
        "id": "R1lybmyk7spP",
        "outputId": "61eb0340-49e6-4fad-ad51-648733ebf518"
      },
      "outputs": [
        {
          "output_type": "execute_result",
          "data": {
            "text/plain": [
              "Maternal Smoker | Birth Weight\n",
              "False           | 120\n",
              "False           | 113\n",
              "True            | 128\n",
              "True            | 108\n",
              "False           | 136\n",
              "False           | 138\n",
              "False           | 132\n",
              "False           | 120\n",
              "True            | 143\n",
              "False           | 140\n",
              "... (1164 rows omitted)"
            ],
            "text/html": [
              "<table border=\"1\" class=\"dataframe\">\n",
              "    <thead>\n",
              "        <tr>\n",
              "            <th>Maternal Smoker</th> <th>Birth Weight</th>\n",
              "        </tr>\n",
              "    </thead>\n",
              "    <tbody>\n",
              "        <tr>\n",
              "            <td>False          </td> <td>120         </td>\n",
              "        </tr>\n",
              "        <tr>\n",
              "            <td>False          </td> <td>113         </td>\n",
              "        </tr>\n",
              "        <tr>\n",
              "            <td>True           </td> <td>128         </td>\n",
              "        </tr>\n",
              "        <tr>\n",
              "            <td>True           </td> <td>108         </td>\n",
              "        </tr>\n",
              "        <tr>\n",
              "            <td>False          </td> <td>136         </td>\n",
              "        </tr>\n",
              "        <tr>\n",
              "            <td>False          </td> <td>138         </td>\n",
              "        </tr>\n",
              "        <tr>\n",
              "            <td>False          </td> <td>132         </td>\n",
              "        </tr>\n",
              "        <tr>\n",
              "            <td>False          </td> <td>120         </td>\n",
              "        </tr>\n",
              "        <tr>\n",
              "            <td>True           </td> <td>143         </td>\n",
              "        </tr>\n",
              "        <tr>\n",
              "            <td>False          </td> <td>140         </td>\n",
              "        </tr>\n",
              "    </tbody>\n",
              "</table>\n",
              "<p>... (1164 rows omitted)</p>"
            ]
          },
          "metadata": {},
          "execution_count": 5
        }
      ],
      "source": [
        "smoking_and_birthweight"
      ]
    },
    {
      "cell_type": "code",
      "execution_count": 6,
      "metadata": {
        "colab": {
          "base_uri": "https://localhost:8080/",
          "height": 394
        },
        "id": "lmaDeMzz6me0",
        "outputId": "9881847b-b2a8-4570-afc0-e4d675c7a4ae"
      },
      "outputs": [
        {
          "output_type": "stream",
          "name": "stderr",
          "text": [
            "/usr/local/lib/python3.7/dist-packages/datascience/tables.py:483: VisibleDeprecationWarning: Creating an ndarray from ragged nested sequences (which is a list-or-tuple of lists-or-tuples-or ndarrays with different lengths or shapes) is deprecated. If you meant to do this, you must specify 'dtype=object' when creating the ndarray.\n",
            "  values = np.array(tuple(values))\n",
            "/usr/local/lib/python3.7/dist-packages/numpy/core/fromnumeric.py:3208: VisibleDeprecationWarning: Creating an ndarray from ragged nested sequences (which is a list-or-tuple of lists-or-tuples-or ndarrays with different lengths or shapes) is deprecated. If you meant to do this, you must specify 'dtype=object' when creating the ndarray.\n",
            "  return asarray(a).size\n",
            "/usr/local/lib/python3.7/dist-packages/matplotlib/cbook/__init__.py:1376: VisibleDeprecationWarning: Creating an ndarray from ragged nested sequences (which is a list-or-tuple of lists-or-tuples-or ndarrays with different lengths or shapes) is deprecated. If you meant to do this, you must specify 'dtype=object' when creating the ndarray.\n",
            "  X = np.atleast_1d(X.T if isinstance(X, np.ndarray) else np.asarray(X))\n"
          ]
        },
        {
          "output_type": "display_data",
          "data": {
            "text/plain": [
              "<Figure size 432x288 with 1 Axes>"
            ],
            "image/png": "[encoded data removed]"
          },
          "metadata": {
            "needs_background": "light"
          }
        }
      ],
      "source": [
        "smoking_and_birthweight.hist('Birth Weight', group = 'Maternal Smoker') # group을 이용하여 두 그룹의 차이를 보여줌\n",
        "# 아래의 결과가 우연인지 아닌지가 중요."
      ]
    },
    {
      "cell_type": "markdown",
      "metadata": {
        "id": "tm9oLv596me6"
      },
      "source": [
        "+ 흡연여성의 경우 아기의 몸무게가 비교적 작아 보인다.\n",
        "+ 이것이 우연에 의한 것인지를 살펴보자."
      ]
    },
    {
      "cell_type": "markdown",
      "metadata": {
        "id": "sLP8a8TS6me9"
      },
      "source": [
        "+ Null hypothesis\n",
        "  - 두 그룹(흡연모, 비흡연모)의 분포는 같다. 즉, 둘의 차이는 랜덤선택에 의한 우연이다.\n",
        "+ Alternative hypothesis: \n",
        "  - 흡연모의 아기 몸무게는 비흡연모의 아기 몸무게보다 작다."
      ]
    },
    {
      "cell_type": "markdown",
      "metadata": {
        "id": "-02sLBV96me-"
      },
      "source": [
        "+ Test Statistic\n",
        "  - 두 그룹사이의 평균 몸무게 차이\n",
        "  - 여기에서는 (흡연모그룹 아기 몸무게 - 비흡연모그룹 아기 몸무게) 를 사용"
      ]
    },
    {
      "cell_type": "markdown",
      "metadata": {
        "id": "xhpGpyJ86mfA"
      },
      "source": [
        "+ Observed statistic을 먼저 계산해보자."
      ]
    },
    {
      "cell_type": "code",
      "execution_count": 7,
      "metadata": {
        "colab": {
          "base_uri": "https://localhost:8080/",
          "height": 112
        },
        "id": "tWwvhi0b6mfB",
        "outputId": "1a138200-4984-4dd4-bae8-d4b00d09c0dd"
      },
      "outputs": [
        {
          "output_type": "execute_result",
          "data": {
            "text/plain": [
              "Maternal Smoker | Birth Weight average\n",
              "False           | 123.085\n",
              "True            | 113.819"
            ],
            "text/html": [
              "<table border=\"1\" class=\"dataframe\">\n",
              "    <thead>\n",
              "        <tr>\n",
              "            <th>Maternal Smoker</th> <th>Birth Weight average</th>\n",
              "        </tr>\n",
              "    </thead>\n",
              "    <tbody>\n",
              "        <tr>\n",
              "            <td>False          </td> <td>123.085             </td>\n",
              "        </tr>\n",
              "        <tr>\n",
              "            <td>True           </td> <td>113.819             </td>\n",
              "        </tr>\n",
              "    </tbody>\n",
              "</table>"
            ]
          },
          "metadata": {},
          "execution_count": 7
        }
      ],
      "source": [
        "means_table = smoking_and_birthweight.group('Maternal Smoker', np.average)\n",
        "means_table"
      ]
    },
    {
      "cell_type": "code",
      "execution_count": 8,
      "metadata": {
        "colab": {
          "base_uri": "https://localhost:8080/"
        },
        "id": "hU80Zi3E6mfI",
        "outputId": "6203de6c-5d09-4bde-a98a-37422ec81fdc"
      },
      "outputs": [
        {
          "output_type": "execute_result",
          "data": {
            "text/plain": [
              "-9.266142572024918"
            ]
          },
          "metadata": {},
          "execution_count": 8
        }
      ],
      "source": [
        "means = means_table.column(1)\n",
        "observed_difference = means.item(1) - means.item(0)\n",
        "observed_difference"
      ]
    },
    {
      "cell_type": "markdown",
      "metadata": {
        "id": "JSfRNvo96mfq"
      },
      "source": [
        "+ 이제 Null hypothesis 에서의 statistic을 구해보자.\n",
        "  - shuffle을 하면 되는데, sample()함수에서 sample_size를 주지 않으면 된다.\n",
        "  - shuffle 이후 statistic을 계산하면 된다."
      ]
    },
    {
      "cell_type": "code",
      "execution_count": 9,
      "metadata": {
        "colab": {
          "base_uri": "https://localhost:8080/",
          "height": 392
        },
        "id": "R4NWpNnv6mfu",
        "outputId": "54ab1a8c-89ec-41bd-839f-9c7ca9fc6ee5"
      },
      "outputs": [
        {
          "output_type": "execute_result",
          "data": {
            "text/plain": [
              "Maternal Smoker | Birth Weight | Shuffled Birth Weight\n",
              "False           | 120          | 114\n",
              "False           | 113          | 136\n",
              "True            | 128          | 151\n",
              "True            | 108          | 135\n",
              "False           | 136          | 123\n",
              "False           | 138          | 85\n",
              "False           | 132          | 126\n",
              "False           | 120          | 139\n",
              "True            | 143          | 123\n",
              "False           | 140          | 119\n",
              "... (1164 rows omitted)"
            ],
            "text/html": [
              "<table border=\"1\" class=\"dataframe\">\n",
              "    <thead>\n",
              "        <tr>\n",
              "            <th>Maternal Smoker</th> <th>Birth Weight</th> <th>Shuffled Birth Weight</th>\n",
              "        </tr>\n",
              "    </thead>\n",
              "    <tbody>\n",
              "        <tr>\n",
              "            <td>False          </td> <td>120         </td> <td>114                  </td>\n",
              "        </tr>\n",
              "        <tr>\n",
              "            <td>False          </td> <td>113         </td> <td>136                  </td>\n",
              "        </tr>\n",
              "        <tr>\n",
              "            <td>True           </td> <td>128         </td> <td>151                  </td>\n",
              "        </tr>\n",
              "        <tr>\n",
              "            <td>True           </td> <td>108         </td> <td>135                  </td>\n",
              "        </tr>\n",
              "        <tr>\n",
              "            <td>False          </td> <td>136         </td> <td>123                  </td>\n",
              "        </tr>\n",
              "        <tr>\n",
              "            <td>False          </td> <td>138         </td> <td>85                   </td>\n",
              "        </tr>\n",
              "        <tr>\n",
              "            <td>False          </td> <td>132         </td> <td>126                  </td>\n",
              "        </tr>\n",
              "        <tr>\n",
              "            <td>False          </td> <td>120         </td> <td>139                  </td>\n",
              "        </tr>\n",
              "        <tr>\n",
              "            <td>True           </td> <td>143         </td> <td>123                  </td>\n",
              "        </tr>\n",
              "        <tr>\n",
              "            <td>False          </td> <td>140         </td> <td>119                  </td>\n",
              "        </tr>\n",
              "    </tbody>\n",
              "</table>\n",
              "<p>... (1164 rows omitted)</p>"
            ]
          },
          "metadata": {},
          "execution_count": 9
        }
      ],
      "source": [
        "# shuffling 구현 코드\n",
        "shuffled_weights = smoking_and_birthweight.sample(with_replacement = False).column(1)\n",
        "original_and_shuffled = smoking_and_birthweight.with_column('Shuffled Birth Weight', shuffled_weights)\n",
        "original_and_shuffled # shuffling은 섞어버리는 것 -> 순서가 random하게 바뀜.\n",
        "# shuffling을 통해 새로운 permutation을 만들었다. ** permutation(순열)의 개수 = N!"
      ]
    },
    {
      "cell_type": "code",
      "execution_count": 10,
      "metadata": {
        "colab": {
          "base_uri": "https://localhost:8080/",
          "height": 112
        },
        "id": "XWY69O6R6mf_",
        "outputId": "dc68027d-e1fc-4002-8f80-935a61a35eba"
      },
      "outputs": [
        {
          "output_type": "execute_result",
          "data": {
            "text/plain": [
              "Maternal Smoker | Birth Weight average | Shuffled Birth Weight average\n",
              "False           | 123.085              | 119.576\n",
              "True            | 113.819              | 119.285"
            ],
            "text/html": [
              "<table border=\"1\" class=\"dataframe\">\n",
              "    <thead>\n",
              "        <tr>\n",
              "            <th>Maternal Smoker</th> <th>Birth Weight average</th> <th>Shuffled Birth Weight average</th>\n",
              "        </tr>\n",
              "    </thead>\n",
              "    <tbody>\n",
              "        <tr>\n",
              "            <td>False          </td> <td>123.085             </td> <td>119.576                      </td>\n",
              "        </tr>\n",
              "        <tr>\n",
              "            <td>True           </td> <td>113.819             </td> <td>119.285                      </td>\n",
              "        </tr>\n",
              "    </tbody>\n",
              "</table>"
            ]
          },
          "metadata": {},
          "execution_count": 10
        }
      ],
      "source": [
        "all_group_means = original_and_shuffled.group('Maternal Smoker', np.average)\n",
        "all_group_means"
      ]
    },
    {
      "cell_type": "code",
      "execution_count": 11,
      "metadata": {
        "colab": {
          "base_uri": "https://localhost:8080/"
        },
        "id": "wQuuWdoq6mgU",
        "outputId": "29a6a6b8-db58-450d-e764-8379efaa4d9c"
      },
      "outputs": [
        {
          "output_type": "execute_result",
          "data": {
            "text/plain": [
              "-0.2908207261148448"
            ]
          },
          "metadata": {},
          "execution_count": 11
        }
      ],
      "source": [
        "shuffled_means = original_and_shuffled.group('Maternal Smoker', np.average).column(2)\n",
        "difference = shuffled_means.item(1) - shuffled_means.item(0)\n",
        "difference"
      ]
    },
    {
      "cell_type": "markdown",
      "metadata": {
        "id": "20PEuSf-6mgv"
      },
      "source": [
        "이를 토대로 시뮬레이션 코드를 작성해 보자."
      ]
    },
    {
      "cell_type": "code",
      "execution_count": 12,
      "metadata": {
        "id": "neGxrKbQ6mg0"
      },
      "outputs": [],
      "source": [
        "differences = make_array()\n",
        "\n",
        "repetitions = 5000\n",
        "for i in np.arange(repetitions):\n",
        "    \n",
        "    shuffled_weights = smoking_and_birthweight.sample(with_replacement = False).column(1)\n",
        "    original_and_shuffled = smoking_and_birthweight.with_column('Shuffled Birth Weight', shuffled_weights)\n",
        "\n",
        "    shuffled_means = original_and_shuffled.group('Maternal Smoker', np.average).column(2)\n",
        "    simulated_difference = shuffled_means.item(1) - shuffled_means.item(0)\n",
        "    \n",
        "    differences = np.append(differences, simulated_difference)\n",
        "    \n"
      ]
    },
    {
      "cell_type": "code",
      "execution_count": 13,
      "metadata": {
        "id": "qrAAIQ_q6mg5",
        "outputId": "82abdcee-01e2-470e-bc98-ca6705121c00",
        "colab": {
          "base_uri": "https://localhost:8080/",
          "height": 298
        }
      },
      "outputs": [
        {
          "output_type": "display_data",
          "data": {
            "text/plain": [
              "<Figure size 432x288 with 1 Axes>"
            ],
            "image/png": "[encoded data removed]"
          },
          "metadata": {
            "needs_background": "light"
          }
        }
      ],
      "source": [
        "# 기무 가설을 채택할 근거가 없음을 증명\n",
        "Table().with_column('Difference Between Group Averages', differences).hist()\n",
        "plots.title('Prediction Under the Null Hypothesis');\n",
        "plots.scatter(observed_difference, 0, color='red', s=100); # 실제값과 비교를 위해"
      ]
    },
    {
      "cell_type": "code",
      "execution_count": 14,
      "metadata": {
        "id": "lMgJDrDj6mhI",
        "outputId": "27fda66d-4388-401f-d048-215440ae81cb",
        "colab": {
          "base_uri": "https://localhost:8080/"
        }
      },
      "outputs": [
        {
          "output_type": "execute_result",
          "data": {
            "text/plain": [
              "0.0"
            ]
          },
          "metadata": {},
          "execution_count": 14
        }
      ],
      "source": [
        "empirical_P = np.count_nonzero(differences <= observed_difference) / repetitions\n",
        "empirical_P"
      ]
    },
    {
      "cell_type": "markdown",
      "metadata": {
        "id": "KRVszwug6mhi"
      },
      "source": [
        "- 따라서 null hypothesis가 reject된다.\n",
        "- 즉, 두 그룹의 분포는 같다고 할 수 없다.\n",
        "\n",
        "- 위 과정을 일반화하여 다른 데이터에 대해서도 사용하자."
      ]
    },
    {
      "cell_type": "code",
      "execution_count": 15,
      "metadata": {
        "id": "YMqCfcOj6mht"
      },
      "outputs": [],
      "source": [
        "def permuted_sample_average_difference(table, label, group_label, repetitions):\n",
        "    \n",
        "    tbl = table.select(group_label, label)\n",
        "    \n",
        "    differences = make_array()\n",
        "    for i in np.arange(repetitions):\n",
        "        shuffled = tbl.sample(with_replacement = False).column(1)\n",
        "        original_and_shuffled = tbl.with_column('Shuffled Data', shuffled)\n",
        "\n",
        "        shuffled_means = original_and_shuffled.group(group_label, np.average).column(2)\n",
        "        simulated_difference = shuffled_means.item(1) - shuffled_means.item(0)\n",
        "    \n",
        "        differences = np.append(differences, simulated_difference)\n",
        "    \n",
        "    return differences   \n"
      ]
    },
    {
      "cell_type": "markdown",
      "metadata": {
        "id": "mtc6_EHT6mh6"
      },
      "source": [
        "- 간단하게 같은 데이터를 가지고 다음 가설을 테스트해 보자.\n",
        "- Null Hypothesis\n",
        "  - 흡연모와 비흡연모 사이에 나이에 관한 분포는 다르지 않다."
      ]
    },
    {
      "cell_type": "markdown",
      "metadata": {
        "id": "cwI5JwIY6mh_"
      },
      "source": [
        "- Observed statistic"
      ]
    },
    {
      "cell_type": "code",
      "execution_count": 16,
      "metadata": {
        "id": "bjSQ1lyA6miG",
        "outputId": "6d6ce0b6-8391-45d4-8e4a-cdd1cbca0615",
        "colab": {
          "base_uri": "https://localhost:8080/"
        }
      },
      "outputs": [
        {
          "output_type": "execute_result",
          "data": {
            "text/plain": [
              "array([27.54405594, 26.73638344])"
            ]
          },
          "metadata": {},
          "execution_count": 16
        }
      ],
      "source": [
        "smoking_and_age = baby.select('Maternal Smoker', 'Maternal Age')\n",
        "observed_means = smoking_and_age.group('Maternal Smoker', np.average).column(1)\n",
        "observed_means # (비흡연자 나이, 흡연자 나이)"
      ]
    },
    {
      "cell_type": "code",
      "execution_count": 17,
      "metadata": {
        "id": "8yoTo271ixqv",
        "outputId": "244b6a3d-30fc-422e-e4ea-fe949de5ae21",
        "colab": {
          "base_uri": "https://localhost:8080/"
        }
      },
      "outputs": [
        {
          "output_type": "execute_result",
          "data": {
            "text/plain": [
              "-0.8076725017901509"
            ]
          },
          "metadata": {},
          "execution_count": 17
        }
      ],
      "source": [
        "observed_difference = observed_means.item(1) - observed_means.item(0)\n",
        "observed_difference"
      ]
    },
    {
      "cell_type": "markdown",
      "metadata": {
        "id": "ywNtnItw6mio"
      },
      "source": [
        "+ Simulated statistics by shuffling"
      ]
    },
    {
      "cell_type": "code",
      "execution_count": 18,
      "metadata": {
        "id": "G-uMufY06miu"
      },
      "outputs": [],
      "source": [
        "differences = permuted_sample_average_difference(baby, 'Maternal Age', 'Maternal Smoker', 5000)"
      ]
    },
    {
      "cell_type": "code",
      "execution_count": 19,
      "metadata": {
        "id": "iiVsmkOv6mi_",
        "outputId": "e62f6fcf-b807-43a4-f211-05f6bd9439d5",
        "colab": {
          "base_uri": "https://localhost:8080/",
          "height": 317
        }
      },
      "outputs": [
        {
          "output_type": "execute_result",
          "data": {
            "text/plain": [
              "Text(0.5, 1.0, 'Prediction Under the Null Hypothesis')"
            ]
          },
          "metadata": {},
          "execution_count": 19
        },
        {
          "output_type": "display_data",
          "data": {
            "text/plain": [
              "<Figure size 432x288 with 1 Axes>"
            ],
            "image/png": "[encoded data removed]"
          },
          "metadata": {
            "needs_background": "light"
          }
        }
      ],
      "source": [
        "Table().with_column('Difference Between Group Averages', differences).hist()\n",
        "plots.scatter(observed_difference, 0, color='red', s=100)\n",
        "plots.title('Prediction Under the Null Hypothesis')"
      ]
    },
    {
      "cell_type": "code",
      "execution_count": 20,
      "metadata": {
        "id": "Tz05h9pN6mjH",
        "outputId": "fc517fa0-7eb1-4a18-c105-94a6892ccbc2",
        "colab": {
          "base_uri": "https://localhost:8080/"
        }
      },
      "outputs": [
        {
          "output_type": "execute_result",
          "data": {
            "text/plain": [
              "0.0102"
            ]
          },
          "metadata": {},
          "execution_count": 20
        }
      ],
      "source": [
        "empirical_P = np.count_nonzero(differences <= observed_difference) / 5000\n",
        "empirical_P"
      ]
    },
    {
      "cell_type": "markdown",
      "metadata": {
        "id": "bCKXnhvf6mjN"
      },
      "source": [
        "> Deflategate \n",
        "---\n",
        "+ 2015년 미 미식축구결승에서 Indianapolis Colts와 New England Patriots가 경기\n",
        "+ 공의 압력은 [12.5 psi, 13.5 psi]이 정상\n",
        "+ 경기 시작전 측정한 공의 압력\n",
        " - Colts 소유공 : 대부분 13.0 psi\n",
        " - Patriots 소유공 : 대부분 12.5 psi\n",
        "+ Half-time에 두 명의 심판관(Clete Blakeman , Dyrol Prioleau) 이 다시 측정 \n",
        "+ Patriots 공이 바람이 지나치게 빠졌다고 주장"
      ]
    },
    {
      "cell_type": "code",
      "execution_count": 21,
      "metadata": {
        "id": "67_MRxbx6mjP",
        "outputId": "4c8b7219-4c5a-4429-e99a-fec22903db81",
        "colab": {
          "base_uri": "https://localhost:8080/",
          "height": 520
        }
      },
      "outputs": [
        {
          "output_type": "display_data",
          "data": {
            "text/plain": [
              "<IPython.core.display.HTML object>"
            ],
            "text/html": [
              "<table border=\"1\" class=\"dataframe\">\n",
              "    <thead>\n",
              "        <tr>\n",
              "            <th>Team</th> <th>Blakeman</th> <th>Prioleau</th>\n",
              "        </tr>\n",
              "    </thead>\n",
              "    <tbody>\n",
              "        <tr>\n",
              "            <td>Patriots</td> <td>11.5    </td> <td>11.8    </td>\n",
              "        </tr>\n",
              "        <tr>\n",
              "            <td>Patriots</td> <td>10.85   </td> <td>11.2    </td>\n",
              "        </tr>\n",
              "        <tr>\n",
              "            <td>Patriots</td> <td>11.15   </td> <td>11.5    </td>\n",
              "        </tr>\n",
              "        <tr>\n",
              "            <td>Patriots</td> <td>10.7    </td> <td>11      </td>\n",
              "        </tr>\n",
              "        <tr>\n",
              "            <td>Patriots</td> <td>11.1    </td> <td>11.45   </td>\n",
              "        </tr>\n",
              "        <tr>\n",
              "            <td>Patriots</td> <td>11.6    </td> <td>11.95   </td>\n",
              "        </tr>\n",
              "        <tr>\n",
              "            <td>Patriots</td> <td>11.85   </td> <td>12.3    </td>\n",
              "        </tr>\n",
              "        <tr>\n",
              "            <td>Patriots</td> <td>11.1    </td> <td>11.55   </td>\n",
              "        </tr>\n",
              "        <tr>\n",
              "            <td>Patriots</td> <td>10.95   </td> <td>11.35   </td>\n",
              "        </tr>\n",
              "        <tr>\n",
              "            <td>Patriots</td> <td>10.5    </td> <td>10.9    </td>\n",
              "        </tr>\n",
              "        <tr>\n",
              "            <td>Patriots</td> <td>10.9    </td> <td>11.35   </td>\n",
              "        </tr>\n",
              "        <tr>\n",
              "            <td>Colts   </td> <td>12.7    </td> <td>12.35   </td>\n",
              "        </tr>\n",
              "        <tr>\n",
              "            <td>Colts   </td> <td>12.75   </td> <td>12.3    </td>\n",
              "        </tr>\n",
              "        <tr>\n",
              "            <td>Colts   </td> <td>12.5    </td> <td>12.95   </td>\n",
              "        </tr>\n",
              "        <tr>\n",
              "            <td>Colts   </td> <td>12.55   </td> <td>12.15   </td>\n",
              "        </tr>\n",
              "    </tbody>\n",
              "</table>"
            ]
          },
          "metadata": {}
        }
      ],
      "source": [
        "football = Table.read_table(fpath+'deflategate.csv')\n",
        "football.show()"
      ]
    },
    {
      "cell_type": "markdown",
      "metadata": {
        "id": "Gdr7jtq76mjf"
      },
      "source": [
        "- 두 심판관이 측정한 값의 평균을 사용하자."
      ]
    },
    {
      "cell_type": "code",
      "execution_count": 22,
      "metadata": {
        "id": "VQuYim0v6mjj",
        "outputId": "03d96d93-0317-4775-add4-aea21726df2b",
        "colab": {
          "base_uri": "https://localhost:8080/",
          "height": 520
        }
      },
      "outputs": [
        {
          "output_type": "display_data",
          "data": {
            "text/plain": [
              "<IPython.core.display.HTML object>"
            ],
            "text/html": [
              "<table border=\"1\" class=\"dataframe\">\n",
              "    <thead>\n",
              "        <tr>\n",
              "            <th>Team</th> <th>Combined</th>\n",
              "        </tr>\n",
              "    </thead>\n",
              "    <tbody>\n",
              "        <tr>\n",
              "            <td>Patriots</td> <td>11.65   </td>\n",
              "        </tr>\n",
              "        <tr>\n",
              "            <td>Patriots</td> <td>11.025  </td>\n",
              "        </tr>\n",
              "        <tr>\n",
              "            <td>Patriots</td> <td>11.325  </td>\n",
              "        </tr>\n",
              "        <tr>\n",
              "            <td>Patriots</td> <td>10.85   </td>\n",
              "        </tr>\n",
              "        <tr>\n",
              "            <td>Patriots</td> <td>11.275  </td>\n",
              "        </tr>\n",
              "        <tr>\n",
              "            <td>Patriots</td> <td>11.775  </td>\n",
              "        </tr>\n",
              "        <tr>\n",
              "            <td>Patriots</td> <td>12.075  </td>\n",
              "        </tr>\n",
              "        <tr>\n",
              "            <td>Patriots</td> <td>11.325  </td>\n",
              "        </tr>\n",
              "        <tr>\n",
              "            <td>Patriots</td> <td>11.15   </td>\n",
              "        </tr>\n",
              "        <tr>\n",
              "            <td>Patriots</td> <td>10.7    </td>\n",
              "        </tr>\n",
              "        <tr>\n",
              "            <td>Patriots</td> <td>11.125  </td>\n",
              "        </tr>\n",
              "        <tr>\n",
              "            <td>Colts   </td> <td>12.525  </td>\n",
              "        </tr>\n",
              "        <tr>\n",
              "            <td>Colts   </td> <td>12.525  </td>\n",
              "        </tr>\n",
              "        <tr>\n",
              "            <td>Colts   </td> <td>12.725  </td>\n",
              "        </tr>\n",
              "        <tr>\n",
              "            <td>Colts   </td> <td>12.35   </td>\n",
              "        </tr>\n",
              "    </tbody>\n",
              "</table>"
            ]
          },
          "metadata": {}
        }
      ],
      "source": [
        "football = football.with_column(\n",
        "    'Combined', (football.column(1)+football.column(2))/2\n",
        "    ).drop(1, 2)\n",
        "football.show()"
      ]
    },
    {
      "cell_type": "markdown",
      "metadata": {
        "id": "m5rnJnpA6mkA"
      },
      "source": [
        "+ 경기 시작 때 공의 압력에서 얼마가 줄어들었는지를 계산하자."
      ]
    },
    {
      "cell_type": "code",
      "execution_count": 23,
      "metadata": {
        "id": "JWtGSNgH6mkD",
        "outputId": "46f0e404-c96b-472f-81db-196cd5b70ddd",
        "colab": {
          "base_uri": "https://localhost:8080/"
        }
      },
      "outputs": [
        {
          "output_type": "execute_result",
          "data": {
            "text/plain": [
              "array([12.5, 12.5, 12.5, 12.5, 12.5, 12.5, 12.5, 12.5, 12.5, 12.5, 12.5,\n",
              "       13. , 13. , 13. , 13. ])"
            ]
          },
          "metadata": {},
          "execution_count": 23
        }
      ],
      "source": [
        "patriots_start = 12.5 * np.ones(11)\n",
        "colts_start = 13 * np.ones(4)\n",
        "start = np.append(patriots_start, colts_start)\n",
        "start"
      ]
    },
    {
      "cell_type": "code",
      "execution_count": 24,
      "metadata": {
        "id": "g1zC5_636mkJ",
        "outputId": "08f0bb21-07f9-4428-a231-c89a93c3af00",
        "colab": {
          "base_uri": "https://localhost:8080/",
          "height": 520
        }
      },
      "outputs": [
        {
          "output_type": "display_data",
          "data": {
            "text/plain": [
              "<IPython.core.display.HTML object>"
            ],
            "text/html": [
              "<table border=\"1\" class=\"dataframe\">\n",
              "    <thead>\n",
              "        <tr>\n",
              "            <th>Team</th> <th>Combined</th> <th>Pressure Drop</th>\n",
              "        </tr>\n",
              "    </thead>\n",
              "    <tbody>\n",
              "        <tr>\n",
              "            <td>Patriots</td> <td>11.65   </td> <td>0.85         </td>\n",
              "        </tr>\n",
              "        <tr>\n",
              "            <td>Patriots</td> <td>11.025  </td> <td>1.475        </td>\n",
              "        </tr>\n",
              "        <tr>\n",
              "            <td>Patriots</td> <td>11.325  </td> <td>1.175        </td>\n",
              "        </tr>\n",
              "        <tr>\n",
              "            <td>Patriots</td> <td>10.85   </td> <td>1.65         </td>\n",
              "        </tr>\n",
              "        <tr>\n",
              "            <td>Patriots</td> <td>11.275  </td> <td>1.225        </td>\n",
              "        </tr>\n",
              "        <tr>\n",
              "            <td>Patriots</td> <td>11.775  </td> <td>0.725        </td>\n",
              "        </tr>\n",
              "        <tr>\n",
              "            <td>Patriots</td> <td>12.075  </td> <td>0.425        </td>\n",
              "        </tr>\n",
              "        <tr>\n",
              "            <td>Patriots</td> <td>11.325  </td> <td>1.175        </td>\n",
              "        </tr>\n",
              "        <tr>\n",
              "            <td>Patriots</td> <td>11.15   </td> <td>1.35         </td>\n",
              "        </tr>\n",
              "        <tr>\n",
              "            <td>Patriots</td> <td>10.7    </td> <td>1.8          </td>\n",
              "        </tr>\n",
              "        <tr>\n",
              "            <td>Patriots</td> <td>11.125  </td> <td>1.375        </td>\n",
              "        </tr>\n",
              "        <tr>\n",
              "            <td>Colts   </td> <td>12.525  </td> <td>0.475        </td>\n",
              "        </tr>\n",
              "        <tr>\n",
              "            <td>Colts   </td> <td>12.525  </td> <td>0.475        </td>\n",
              "        </tr>\n",
              "        <tr>\n",
              "            <td>Colts   </td> <td>12.725  </td> <td>0.275        </td>\n",
              "        </tr>\n",
              "        <tr>\n",
              "            <td>Colts   </td> <td>12.35   </td> <td>0.65         </td>\n",
              "        </tr>\n",
              "    </tbody>\n",
              "</table>"
            ]
          },
          "metadata": {}
        }
      ],
      "source": [
        "drop = start - football.column('Combined')\n",
        "football = football.with_column('Pressure Drop', drop)\n",
        "football.show()"
      ]
    },
    {
      "cell_type": "markdown",
      "metadata": {
        "id": "xFoJe5bG6mkc"
      },
      "source": [
        "+ Observed statistic"
      ]
    },
    {
      "cell_type": "code",
      "execution_count": 25,
      "metadata": {
        "id": "i8043OXi6mki",
        "outputId": "0a7ebef3-ca30-4371-d274-526bccd1a8f6",
        "colab": {
          "base_uri": "https://localhost:8080/",
          "height": 112
        }
      },
      "outputs": [
        {
          "output_type": "execute_result",
          "data": {
            "text/plain": [
              "Team     | Pressure Drop average\n",
              "Colts    | 0.46875\n",
              "Patriots | 1.20227"
            ],
            "text/html": [
              "<table border=\"1\" class=\"dataframe\">\n",
              "    <thead>\n",
              "        <tr>\n",
              "            <th>Team</th> <th>Pressure Drop average</th>\n",
              "        </tr>\n",
              "    </thead>\n",
              "    <tbody>\n",
              "        <tr>\n",
              "            <td>Colts   </td> <td>0.46875              </td>\n",
              "        </tr>\n",
              "        <tr>\n",
              "            <td>Patriots</td> <td>1.20227              </td>\n",
              "        </tr>\n",
              "    </tbody>\n",
              "</table>"
            ]
          },
          "metadata": {},
          "execution_count": 25
        }
      ],
      "source": [
        "football = football.drop('Combined')\n",
        "football.group('Team', np.average)"
      ]
    },
    {
      "cell_type": "code",
      "execution_count": 26,
      "metadata": {
        "id": "gFWf9WDU6mk6",
        "outputId": "7607033f-a8d9-4de3-a0d6-605eccf4b6d2",
        "colab": {
          "base_uri": "https://localhost:8080/"
        }
      },
      "outputs": [
        {
          "output_type": "execute_result",
          "data": {
            "text/plain": [
              "0.733522727272728"
            ]
          },
          "metadata": {},
          "execution_count": 26
        }
      ],
      "source": [
        "observed_means = football.group('Team', np.average).column(1)\n",
        "\n",
        "observed_difference = observed_means.item(1) - observed_means.item(0)\n",
        "observed_difference"
      ]
    },
    {
      "cell_type": "markdown",
      "metadata": {
        "id": "2JOSurpt6mlG"
      },
      "source": [
        "- Simulated statistics"
      ]
    },
    {
      "cell_type": "code",
      "execution_count": 27,
      "metadata": {
        "id": "bUQnhKs36mlL"
      },
      "outputs": [],
      "source": [
        "def permuted_sample_average_difference(table, label, group_label, repetitions): # table, x축, 기준 group, 반복 횟수\n",
        "    \n",
        "    tbl = table.select(group_label, label)\n",
        "    \n",
        "    differences = make_array()\n",
        "    for i in np.arange(repetitions):\n",
        "        shuffled = tbl.sample(with_replacement = False).column(1) # with_replacement = False == 중복 x\n",
        "        original_and_shuffled = tbl.with_column('Shuffled Data', shuffled)\n",
        "\n",
        "        shuffled_means = original_and_shuffled.group(group_label, np.average).column(2)\n",
        "        simulated_difference = shuffled_means.item(1) - shuffled_means.item(0)\n",
        "    \n",
        "        differences = np.append(differences, simulated_difference)\n",
        "    \n",
        "    return differences   \n",
        "# p - value 란 대립 가설이 만족하여 귀무 가설이 무시될 때, 그럼에도 불구하고 귀무가설 처럼 되어버리는 상황이 나올 확률로 면적 구하면 됨.\n",
        "# one-side 검정 -> ~이 너무 크거나 작은 것이 아닌가? ( 대립 가설 중 One-side ), 이때 p-value는 중앙으로부터 반대 방향으로 넓이 구하기\n",
        "# two-side 검정 -> 중앙으로부터 너무 크거나 작은 부분의 넓이 구함\n",
        "# p-value 는 대립 가설의 의미에 맞춰서 구하는 것.\n",
        "# 빨간 점이 우측에 있다고 무조건 우측 넓이를 구하는 것 아님. 이 방향은 대립 가설에 의해 결정되는 것\n",
        "# 예를 들어, A가 더 크다라는 대립가설이 존재하는데, 귀무가설이 B쪽에 형성되면, A의 우측 넓이를 구함.\n",
        "# 귀무가설, 대립가설, p-value 개념 확실히 하기\n",
        "# 귀무가설은 값 두개가 비슷할 것이다."
      ]
    },
    {
      "cell_type": "code",
      "execution_count": 28,
      "metadata": {
        "id": "aYLtw95L6mlU"
      },
      "outputs": [],
      "source": [
        "differences = permuted_sample_average_difference(football, 'Pressure Drop', 'Team', 10000)"
      ]
    },
    {
      "cell_type": "code",
      "execution_count": 35,
      "metadata": {
        "id": "IsSksyy_6mlZ",
        "outputId": "8d390ba2-284e-4aa2-a5d0-9fffc8645a71",
        "colab": {
          "base_uri": "https://localhost:8080/",
          "height": 428
        }
      },
      "outputs": [
        {
          "output_type": "execute_result",
          "data": {
            "text/plain": [
              "Text(0.5, 1.0, 'Prediction Under the Null Hypothesis')"
            ]
          },
          "metadata": {},
          "execution_count": 35
        },
        {
          "output_type": "display_data",
          "data": {
            "text/plain": [
              "<Figure size 432x288 with 1 Axes>"
            ],
            "image/png": "[encoded data removed]"
          },
          "metadata": {
            "needs_background": "light"
          }
        }
      ],
      "source": [
        "Table().with_column('Difference Between Group Averages', differences).hist()\n",
        "plots.scatter(observed_difference, 0, color='red', s=100)\n",
        "plots.title('Prediction Under the Null Hypothesis')\n"
      ]
    },
    {
      "cell_type": "code",
      "execution_count": 30,
      "metadata": {
        "id": "FmgyqVpw6mle",
        "outputId": "e4c8325a-d674-4277-fa85-30b7342618b3",
        "colab": {
          "base_uri": "https://localhost:8080/"
        }
      },
      "outputs": [
        {
          "output_type": "execute_result",
          "data": {
            "text/plain": [
              "0.0029"
            ]
          },
          "metadata": {},
          "execution_count": 30
        }
      ],
      "source": [
        "empirical_P = np.count_nonzero(differences >= observed_difference) / 10000\n",
        "empirical_P"
      ]
    },
    {
      "cell_type": "markdown",
      "metadata": {
        "id": "_BqcE6sX6mll"
      },
      "source": [
        "> ### Recap\n",
        "---\n",
        "\n",
        "+ A/B Testing\n",
        " - 두 그룹의 분포에 대한 비교\n",
        " - shuffle"
      ]
    }
  ],
  "metadata": {
    "colab": {
      "collapsed_sections": [],
      "name": "Ch12-Comparing Two Samples.ipynb",
      "provenance": []
    },
    "interpreter": {
      "hash": "23d75174b31ca4fcf71687e5660e0534c2f456560373f0bf6ae035518c9290e4"
    },
    "kernelspec": {
      "display_name": "Python 3.10.2 64-bit",
      "language": "python",
      "name": "python3"
    },
    "language_info": {
      "codemirror_mode": {
        "name": "ipython",
        "version": 3
      },
      "file_extension": ".py",
      "mimetype": "text/x-python",
      "name": "python",
      "nbconvert_exporter": "python",
      "pygments_lexer": "ipython3",
      "version": "3.10.2"
    }
  },
  "nbformat": 4,
  "nbformat_minor": 0
}