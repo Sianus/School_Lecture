{
 "cells": [
  {
   "cell_type": "markdown",
   "metadata": {},
   "source": [
    "# Matplotlib"
   ]
  },
  {
   "cell_type": "code",
   "execution_count": 1,
   "metadata": {},
   "outputs": [],
   "source": [
    "import matplotlib as mpl\n",
    "import matplotlib.pyplot as plt"
   ]
  },
  {
   "cell_type": "code",
   "execution_count": 2,
   "metadata": {},
   "outputs": [
    {
     "data": {
      "image/png": "[encoded data removed]",
      "text/plain": [
       "<Figure size 432x288 with 1 Axes>"
      ]
     },
     "metadata": {
      "needs_background": "light"
     },
     "output_type": "display_data"
    }
   ],
   "source": [
    "# Ex1)\n",
    "import matplotlib.pyplot as plt\n",
    "\n",
    "plt.plot([1,2,3,4]) # plot함수는 리스트의 값들이 y값이라 가정하고, x의 값을 0부터 자동 생성\n",
    "plt.show()"
   ]
  },
  {
   "cell_type": "code",
   "execution_count": 3,
   "metadata": {},
   "outputs": [
    {
     "data": {
      "image/png": "[encoded data removed]",
      "text/plain": [
       "<Figure size 432x288 with 1 Axes>"
      ]
     },
     "metadata": {
      "needs_background": "light"
     },
     "output_type": "display_data"
    }
   ],
   "source": [
    "# Ex2)\n",
    "plt.plot([1,2,3,4], [1,4,9,16]) # [1,2,3,4] = x축, [1,4,9,16] = y축\n",
    "plt.show();"
   ]
  },
  {
   "cell_type": "code",
   "execution_count": 4,
   "metadata": {},
   "outputs": [
    {
     "data": {
      "image/png": "[encoded data removed]",
      "text/plain": [
       "<Figure size 432x288 with 1 Axes>"
      ]
     },
     "metadata": {
      "needs_background": "light"
     },
     "output_type": "display_data"
    }
   ],
   "source": [
    "# Ex3) Style 지정\n",
    "plt.plot([1,2,3,4], [1,4,9,16], 'ro') # 'ro' = 포맷 문자열. 위치 : 세번째 인자, 역할 : x,y 값 인자에 대해 선의 색상과 형태 지정\n",
    "# 'ro' = red의 o(원형) 마커\n",
    "plt.axis([0,6,0,20]) # axis([xmin, xmax, ymin, ymax])\n",
    "plt.show()"
   ]
  },
  {
   "cell_type": "markdown",
   "metadata": {},
   "source": [
    "# Introduction"
   ]
  },
  {
   "cell_type": "code",
   "execution_count": 5,
   "metadata": {},
   "outputs": [
    {
     "name": "stdout",
     "output_type": "stream",
     "text": [
      "Requirement already satisfied: yfinance in a:\\python\\lib\\site-packages (0.1.70)\n",
      "Requirement already satisfied: numpy>=1.15 in a:\\python\\lib\\site-packages (from yfinance) (1.22.2)\n",
      "Requirement already satisfied: lxml>=4.5.1 in a:\\python\\lib\\site-packages (from yfinance) (4.8.0)\n",
      "Requirement already satisfied: pandas>=0.24.0 in a:\\python\\lib\\site-packages (from yfinance) (1.4.1)\n",
      "Requirement already satisfied: multitasking>=0.0.7 in a:\\python\\lib\\site-packages (from yfinance) (0.0.10)\n",
      "Requirement already satisfied: requests>=2.26 in a:\\python\\lib\\site-packages (from yfinance) (2.27.1)\n",
      "Requirement already satisfied: python-dateutil>=2.8.1 in c:\\users\\tlsdn\\appdata\\roaming\\python\\python310\\site-packages (from pandas>=0.24.0->yfinance) (2.8.2)\n",
      "Requirement already satisfied: pytz>=2020.1 in a:\\python\\lib\\site-packages (from pandas>=0.24.0->yfinance) (2021.3)\n",
      "Requirement already satisfied: idna<4,>=2.5 in a:\\python\\lib\\site-packages (from requests>=2.26->yfinance) (3.3)\n",
      "Requirement already satisfied: certifi>=2017.4.17 in a:\\python\\lib\\site-packages (from requests>=2.26->yfinance) (2021.10.8)\n",
      "Requirement already satisfied: urllib3<1.27,>=1.21.1 in a:\\python\\lib\\site-packages (from requests>=2.26->yfinance) (1.26.9)\n",
      "Requirement already satisfied: charset-normalizer~=2.0.0 in a:\\python\\lib\\site-packages (from requests>=2.26->yfinance) (2.0.12)\n",
      "Requirement already satisfied: six>=1.5 in c:\\users\\tlsdn\\appdata\\roaming\\python\\python310\\site-packages (from python-dateutil>=2.8.1->pandas>=0.24.0->yfinance) (1.16.0)\n"
     ]
    }
   ],
   "source": [
    "!pip install yfinance"
   ]
  },
  {
   "cell_type": "markdown",
   "metadata": {},
   "source": [
    "> 오픈소스 API  \n",
    ">  \n",
    "> 이를 통해 Yahoo Finance에서 제공하는 데이터에 접근 가능  \n",
    ">  \n",
    "> Yahoo Finance는 주식 시세, 보도 자료, 재무 보고서 등을 포함한 자료를 가지고 있음\n",
    ">  \n",
    "> Yahoo Finance에서 가져온 자료는 DataFrame형태"
   ]
  },
  {
   "cell_type": "markdown",
   "metadata": {},
   "source": [
    "## First Example : Handling Financial Data"
   ]
  },
  {
   "cell_type": "code",
   "execution_count": 6,
   "metadata": {},
   "outputs": [
    {
     "data": {
      "text/html": [
       "<div>\n",
       "<style scoped>\n",
       "    .dataframe tbody tr th:only-of-type {\n",
       "        vertical-align: middle;\n",
       "    }\n",
       "\n",
       "    .dataframe tbody tr th {\n",
       "        vertical-align: top;\n",
       "    }\n",
       "\n",
       "    .dataframe thead th {\n",
       "        text-align: right;\n",
       "    }\n",
       "</style>\n",
       "<table border=\"1\" class=\"dataframe\">\n",
       "  <thead>\n",
       "    <tr style=\"text-align: right;\">\n",
       "      <th></th>\n",
       "      <th>Open</th>\n",
       "      <th>High</th>\n",
       "      <th>Low</th>\n",
       "      <th>Close</th>\n",
       "      <th>Volume</th>\n",
       "      <th>Dividends</th>\n",
       "      <th>Stock Splits</th>\n",
       "    </tr>\n",
       "    <tr>\n",
       "      <th>Date</th>\n",
       "      <th></th>\n",
       "      <th></th>\n",
       "      <th></th>\n",
       "      <th></th>\n",
       "      <th></th>\n",
       "      <th></th>\n",
       "      <th></th>\n",
       "    </tr>\n",
       "  </thead>\n",
       "  <tbody>\n",
       "    <tr>\n",
       "      <th>2015-12-31</th>\n",
       "      <td>50.608555</td>\n",
       "      <td>50.744014</td>\n",
       "      <td>50.048643</td>\n",
       "      <td>50.102829</td>\n",
       "      <td>27334100</td>\n",
       "      <td>0.0</td>\n",
       "      <td>0</td>\n",
       "    </tr>\n",
       "    <tr>\n",
       "      <th>2016-01-04</th>\n",
       "      <td>49.055254</td>\n",
       "      <td>49.488731</td>\n",
       "      <td>48.215390</td>\n",
       "      <td>49.488731</td>\n",
       "      <td>53778000</td>\n",
       "      <td>0.0</td>\n",
       "      <td>0</td>\n",
       "    </tr>\n",
       "    <tr>\n",
       "      <th>2016-01-05</th>\n",
       "      <td>49.606128</td>\n",
       "      <td>50.021544</td>\n",
       "      <td>49.253928</td>\n",
       "      <td>49.714497</td>\n",
       "      <td>34079700</td>\n",
       "      <td>0.0</td>\n",
       "      <td>0</td>\n",
       "    </tr>\n",
       "    <tr>\n",
       "      <th>2016-01-06</th>\n",
       "      <td>49.055245</td>\n",
       "      <td>49.127492</td>\n",
       "      <td>48.441151</td>\n",
       "      <td>48.811413</td>\n",
       "      <td>39518900</td>\n",
       "      <td>0.0</td>\n",
       "      <td>0</td>\n",
       "    </tr>\n",
       "    <tr>\n",
       "      <th>2016-01-07</th>\n",
       "      <td>47.592270</td>\n",
       "      <td>48.305704</td>\n",
       "      <td>47.023329</td>\n",
       "      <td>47.113636</td>\n",
       "      <td>56564900</td>\n",
       "      <td>0.0</td>\n",
       "      <td>0</td>\n",
       "    </tr>\n",
       "    <tr>\n",
       "      <th>...</th>\n",
       "      <td>...</td>\n",
       "      <td>...</td>\n",
       "      <td>...</td>\n",
       "      <td>...</td>\n",
       "      <td>...</td>\n",
       "      <td>...</td>\n",
       "      <td>...</td>\n",
       "    </tr>\n",
       "    <tr>\n",
       "      <th>2022-05-09</th>\n",
       "      <td>270.059998</td>\n",
       "      <td>272.359985</td>\n",
       "      <td>263.320007</td>\n",
       "      <td>264.579987</td>\n",
       "      <td>47726000</td>\n",
       "      <td>0.0</td>\n",
       "      <td>0</td>\n",
       "    </tr>\n",
       "    <tr>\n",
       "      <th>2022-05-10</th>\n",
       "      <td>271.690002</td>\n",
       "      <td>273.750000</td>\n",
       "      <td>265.070007</td>\n",
       "      <td>269.500000</td>\n",
       "      <td>39336400</td>\n",
       "      <td>0.0</td>\n",
       "      <td>0</td>\n",
       "    </tr>\n",
       "    <tr>\n",
       "      <th>2022-05-11</th>\n",
       "      <td>265.679993</td>\n",
       "      <td>271.359985</td>\n",
       "      <td>259.299988</td>\n",
       "      <td>260.549988</td>\n",
       "      <td>48975900</td>\n",
       "      <td>0.0</td>\n",
       "      <td>0</td>\n",
       "    </tr>\n",
       "    <tr>\n",
       "      <th>2022-05-12</th>\n",
       "      <td>257.690002</td>\n",
       "      <td>259.880005</td>\n",
       "      <td>250.020004</td>\n",
       "      <td>255.350006</td>\n",
       "      <td>51033800</td>\n",
       "      <td>0.0</td>\n",
       "      <td>0</td>\n",
       "    </tr>\n",
       "    <tr>\n",
       "      <th>2022-05-13</th>\n",
       "      <td>257.350006</td>\n",
       "      <td>263.040009</td>\n",
       "      <td>255.350006</td>\n",
       "      <td>261.119995</td>\n",
       "      <td>34893400</td>\n",
       "      <td>0.0</td>\n",
       "      <td>0</td>\n",
       "    </tr>\n",
       "  </tbody>\n",
       "</table>\n",
       "<p>1604 rows × 7 columns</p>\n",
       "</div>"
      ],
      "text/plain": [
       "                  Open        High         Low       Close    Volume  \\\n",
       "Date                                                                   \n",
       "2015-12-31   50.608555   50.744014   50.048643   50.102829  27334100   \n",
       "2016-01-04   49.055254   49.488731   48.215390   49.488731  53778000   \n",
       "2016-01-05   49.606128   50.021544   49.253928   49.714497  34079700   \n",
       "2016-01-06   49.055245   49.127492   48.441151   48.811413  39518900   \n",
       "2016-01-07   47.592270   48.305704   47.023329   47.113636  56564900   \n",
       "...                ...         ...         ...         ...       ...   \n",
       "2022-05-09  270.059998  272.359985  263.320007  264.579987  47726000   \n",
       "2022-05-10  271.690002  273.750000  265.070007  269.500000  39336400   \n",
       "2022-05-11  265.679993  271.359985  259.299988  260.549988  48975900   \n",
       "2022-05-12  257.690002  259.880005  250.020004  255.350006  51033800   \n",
       "2022-05-13  257.350006  263.040009  255.350006  261.119995  34893400   \n",
       "\n",
       "            Dividends  Stock Splits  \n",
       "Date                                 \n",
       "2015-12-31        0.0             0  \n",
       "2016-01-04        0.0             0  \n",
       "2016-01-05        0.0             0  \n",
       "2016-01-06        0.0             0  \n",
       "2016-01-07        0.0             0  \n",
       "...               ...           ...  \n",
       "2022-05-09        0.0             0  \n",
       "2022-05-10        0.0             0  \n",
       "2022-05-11        0.0             0  \n",
       "2022-05-12        0.0             0  \n",
       "2022-05-13        0.0             0  \n",
       "\n",
       "[1604 rows x 7 columns]"
      ]
     },
     "execution_count": 6,
     "metadata": {},
     "output_type": "execute_result"
    }
   ],
   "source": [
    "import yfinance as yf\n",
    "import datetime as dt\n",
    "\n",
    "tickerSymbol = 'MSFT' # tickerSymbol이라는 변수에 MSFT를 저장\n",
    "\n",
    "tickerData = yf.Ticker(tickerSymbol)\n",
    "# yfinance에서 MSFT(MicroSoft)에 대한 정보를 가져옴\n",
    "\n",
    "today = dt.date.today()\n",
    "\n",
    "tickerDf = tickerData.history(period='1d', start='2016-1-1', end=today)\n",
    "# tickerData에 저장된 자료의 과거를 1일 단위로 2016년 1월 1일부터 오늘날까지 정보를 가져와라\n",
    "tickerDf"
   ]
  },
  {
   "cell_type": "code",
   "execution_count": 7,
   "metadata": {},
   "outputs": [
    {
     "data": {
      "text/html": [
       "<div>\n",
       "<style scoped>\n",
       "    .dataframe tbody tr th:only-of-type {\n",
       "        vertical-align: middle;\n",
       "    }\n",
       "\n",
       "    .dataframe tbody tr th {\n",
       "        vertical-align: top;\n",
       "    }\n",
       "\n",
       "    .dataframe thead th {\n",
       "        text-align: right;\n",
       "    }\n",
       "</style>\n",
       "<table border=\"1\" class=\"dataframe\">\n",
       "  <thead>\n",
       "    <tr style=\"text-align: right;\">\n",
       "      <th></th>\n",
       "      <th>Open</th>\n",
       "      <th>High</th>\n",
       "      <th>Low</th>\n",
       "      <th>Close</th>\n",
       "      <th>Volume</th>\n",
       "      <th>Dividends</th>\n",
       "      <th>Stock Splits</th>\n",
       "      <th>MA10</th>\n",
       "      <th>MA50</th>\n",
       "    </tr>\n",
       "    <tr>\n",
       "      <th>Date</th>\n",
       "      <th></th>\n",
       "      <th></th>\n",
       "      <th></th>\n",
       "      <th></th>\n",
       "      <th></th>\n",
       "      <th></th>\n",
       "      <th></th>\n",
       "      <th></th>\n",
       "      <th></th>\n",
       "    </tr>\n",
       "  </thead>\n",
       "  <tbody>\n",
       "    <tr>\n",
       "      <th>2015-12-31</th>\n",
       "      <td>50.608555</td>\n",
       "      <td>50.744014</td>\n",
       "      <td>50.048643</td>\n",
       "      <td>50.102829</td>\n",
       "      <td>27334100</td>\n",
       "      <td>0.0</td>\n",
       "      <td>0</td>\n",
       "      <td>NaN</td>\n",
       "      <td>NaN</td>\n",
       "    </tr>\n",
       "    <tr>\n",
       "      <th>2016-01-04</th>\n",
       "      <td>49.055254</td>\n",
       "      <td>49.488731</td>\n",
       "      <td>48.215390</td>\n",
       "      <td>49.488731</td>\n",
       "      <td>53778000</td>\n",
       "      <td>0.0</td>\n",
       "      <td>0</td>\n",
       "      <td>NaN</td>\n",
       "      <td>NaN</td>\n",
       "    </tr>\n",
       "    <tr>\n",
       "      <th>2016-01-05</th>\n",
       "      <td>49.606128</td>\n",
       "      <td>50.021544</td>\n",
       "      <td>49.253928</td>\n",
       "      <td>49.714497</td>\n",
       "      <td>34079700</td>\n",
       "      <td>0.0</td>\n",
       "      <td>0</td>\n",
       "      <td>NaN</td>\n",
       "      <td>NaN</td>\n",
       "    </tr>\n",
       "    <tr>\n",
       "      <th>2016-01-06</th>\n",
       "      <td>49.055245</td>\n",
       "      <td>49.127492</td>\n",
       "      <td>48.441151</td>\n",
       "      <td>48.811413</td>\n",
       "      <td>39518900</td>\n",
       "      <td>0.0</td>\n",
       "      <td>0</td>\n",
       "      <td>NaN</td>\n",
       "      <td>NaN</td>\n",
       "    </tr>\n",
       "    <tr>\n",
       "      <th>2016-01-07</th>\n",
       "      <td>47.592270</td>\n",
       "      <td>48.305704</td>\n",
       "      <td>47.023329</td>\n",
       "      <td>47.113636</td>\n",
       "      <td>56564900</td>\n",
       "      <td>0.0</td>\n",
       "      <td>0</td>\n",
       "      <td>NaN</td>\n",
       "      <td>NaN</td>\n",
       "    </tr>\n",
       "  </tbody>\n",
       "</table>\n",
       "</div>"
      ],
      "text/plain": [
       "                 Open       High        Low      Close    Volume  Dividends  \\\n",
       "Date                                                                          \n",
       "2015-12-31  50.608555  50.744014  50.048643  50.102829  27334100        0.0   \n",
       "2016-01-04  49.055254  49.488731  48.215390  49.488731  53778000        0.0   \n",
       "2016-01-05  49.606128  50.021544  49.253928  49.714497  34079700        0.0   \n",
       "2016-01-06  49.055245  49.127492  48.441151  48.811413  39518900        0.0   \n",
       "2016-01-07  47.592270  48.305704  47.023329  47.113636  56564900        0.0   \n",
       "\n",
       "            Stock Splits  MA10  MA50  \n",
       "Date                                  \n",
       "2015-12-31             0   NaN   NaN  \n",
       "2016-01-04             0   NaN   NaN  \n",
       "2016-01-05             0   NaN   NaN  \n",
       "2016-01-06             0   NaN   NaN  \n",
       "2016-01-07             0   NaN   NaN  "
      ]
     },
     "execution_count": 7,
     "metadata": {},
     "output_type": "execute_result"
    }
   ],
   "source": [
    "tickerDf['MA10'] = tickerDf['Close'].rolling(10).mean();\n",
    "# < 좌변 >\n",
    "# tickerDf에 MA10이라는 열을 추가하고, 우변의 내용을 저장\n",
    "# < 우변 >\n",
    "# tickerDf에 존재하는 Close 열에 접근하고, 10일에 대한 평균 이동을 구함.\n",
    "# 그 평균 이동 내역의 평균값을 DataFrame에 저장\n",
    "# rolling(N)\n",
    "# N은 윈도우의 크기인데, 윈도우라는 것이 비교 대상인 것 같음.\n",
    "# tickerDf는 period가 1일이라서, 10을하면 10일 이동평균선이 되는 것임.\n",
    "# 지정한 N보다 데이터가 적으면 NaN 반환\n",
    "tickerDf['MA50'] = tickerDf['Close'].rolling(50).mean();\n",
    "tickerDf.head()"
   ]
  },
  {
   "cell_type": "code",
   "execution_count": 8,
   "metadata": {},
   "outputs": [
    {
     "data": {
      "image/png": "[encoded data removed]",
      "text/plain": [
       "<Figure size 720x360 with 1 Axes>"
      ]
     },
     "metadata": {
      "needs_background": "light"
     },
     "output_type": "display_data"
    }
   ],
   "source": [
    "import matplotlib.pyplot as plt\n",
    "\n",
    "plt.figure(figsize=(10,5)) # figsize = 그래프 크기\n",
    "tickerDf['Close'].plot(label='Closing Price');\n",
    "tickerDf['MA10'].plot(label='MA10'); # plot = 점 찍기\n",
    "tickerDf['MA50'].plot(label='MA50');\n",
    "plt.legend(); # 범례"
   ]
  },
  {
   "cell_type": "markdown",
   "metadata": {},
   "source": [
    "## Second Example : Reading Books Fast!"
   ]
  },
  {
   "cell_type": "code",
   "execution_count": 9,
   "metadata": {},
   "outputs": [
    {
     "data": {
      "text/html": [
       "<table border=\"1\" class=\"dataframe\">\n",
       "    <thead>\n",
       "        <tr>\n",
       "            <th>Chapters</th>\n",
       "        </tr>\n",
       "    </thead>\n",
       "    <tbody>\n",
       "        <tr>\n",
       "            <td>I. YOU don't know about me without you have read a book  ...</td>\n",
       "        </tr>\n",
       "        <tr>\n",
       "            <td>II. WE went tiptoeing along a path amongst the trees bac ...</td>\n",
       "        </tr>\n",
       "        <tr>\n",
       "            <td>III. WELL, I got a good going-over in the morning from o ...</td>\n",
       "        </tr>\n",
       "        <tr>\n",
       "            <td>IV. WELL, three or four months run along, and it was wel ...</td>\n",
       "        </tr>\n",
       "        <tr>\n",
       "            <td>V. I had shut the door to. Then I turned around and ther ...</td>\n",
       "        </tr>\n",
       "        <tr>\n",
       "            <td>VI. WELL, pretty soon the old man was up and around agai ...</td>\n",
       "        </tr>\n",
       "        <tr>\n",
       "            <td>VII. \"GIT up! What you 'bout?\" I opened my eyes and look ...</td>\n",
       "        </tr>\n",
       "        <tr>\n",
       "            <td>VIII. THE sun was up so high when I waked that I judged  ...</td>\n",
       "        </tr>\n",
       "        <tr>\n",
       "            <td>IX. I wanted to go and look at a place right about the m ...</td>\n",
       "        </tr>\n",
       "        <tr>\n",
       "            <td>X. AFTER breakfast I wanted to talk about the dead man a ...</td>\n",
       "        </tr>\n",
       "    </tbody>\n",
       "</table>\n",
       "<p>... (33 rows omitted)</p>"
      ],
      "text/plain": [
       "Chapters\n",
       "I. YOU don't know about me without you have read a book  ...\n",
       "II. WE went tiptoeing along a path amongst the trees bac ...\n",
       "III. WELL, I got a good going-over in the morning from o ...\n",
       "IV. WELL, three or four months run along, and it was wel ...\n",
       "V. I had shut the door to. Then I turned around and ther ...\n",
       "VI. WELL, pretty soon the old man was up and around agai ...\n",
       "VII. \"GIT up! What you 'bout?\" I opened my eyes and look ...\n",
       "VIII. THE sun was up so high when I waked that I judged  ...\n",
       "IX. I wanted to go and look at a place right about the m ...\n",
       "X. AFTER breakfast I wanted to talk about the dead man a ...\n",
       "... (33 rows omitted)"
      ]
     },
     "execution_count": 9,
     "metadata": {},
     "output_type": "execute_result"
    }
   ],
   "source": [
    "from datascience import *\n",
    "from urllib.request import urlopen\n",
    "import re # 정규포현식 모듈\n",
    "def read_url(url):\n",
    "    return re.sub('\\\\s+',' ', urlopen(url).read().decode())\n",
    "\n",
    "huck_finn_url = 'https://www.inferentialthinking.com/data/huck_finn.txt'\n",
    "huck_finn_text = read_url(huck_finn_url) # 위에서 저장한 url 내용을 선언한 함수를 통해 새로운 변수에 저장\n",
    "huck_finn_chapters = huck_finn_text.split('CHAPTER ')[44:] # 44번쨰 Chapter라는 글자가 나오는 곳 부터 시작\n",
    "\n",
    "Table().with_columns('Chapters', huck_finn_chapters)"
   ]
  },
  {
   "cell_type": "code",
   "execution_count": 10,
   "metadata": {},
   "outputs": [
    {
     "data": {
      "text/html": [
       "<table border=\"1\" class=\"dataframe\">\n",
       "    <thead>\n",
       "        <tr>\n",
       "            <th>Chapters </th>\n",
       "        </tr>\n",
       "    </thead>\n",
       "    <tbody>\n",
       "        <tr>\n",
       "            <td>ONE PLAYING PILGRIMS \"Christmas won't be Christmas witho ...</td>\n",
       "        </tr>\n",
       "        <tr>\n",
       "            <td>TWO A MERRY CHRISTMAS Jo was the first to wake in the gr ...</td>\n",
       "        </tr>\n",
       "        <tr>\n",
       "            <td>THREE THE LAURENCE BOY \"Jo! Jo! Where are you?\" cried Me ...</td>\n",
       "        </tr>\n",
       "        <tr>\n",
       "            <td>FOUR BURDENS \"Oh, dear, how hard it does seem to take up ...</td>\n",
       "        </tr>\n",
       "        <tr>\n",
       "            <td>FIVE BEING NEIGHBORLY \"What in the world are you going t ...</td>\n",
       "        </tr>\n",
       "        <tr>\n",
       "            <td>SIX BETH FINDS THE PALACE BEAUTIFUL The big house did pr ...</td>\n",
       "        </tr>\n",
       "        <tr>\n",
       "            <td>SEVEN AMY'S VALLEY OF HUMILIATION \"That boy is a perfect ...</td>\n",
       "        </tr>\n",
       "        <tr>\n",
       "            <td>EIGHT JO MEETS APOLLYON \"Girls, where are you going?\" as ...</td>\n",
       "        </tr>\n",
       "        <tr>\n",
       "            <td>NINE MEG GOES TO VANITY FAIR \"I do think it was the most ...</td>\n",
       "        </tr>\n",
       "        <tr>\n",
       "            <td>TEN THE P.C. AND P.O. As spring came on, a new set of am ...</td>\n",
       "        </tr>\n",
       "    </tbody>\n",
       "</table>\n",
       "<p>... (37 rows omitted)</p>"
      ],
      "text/plain": [
       "Chapters\n",
       "ONE PLAYING PILGRIMS \"Christmas won't be Christmas witho ...\n",
       "TWO A MERRY CHRISTMAS Jo was the first to wake in the gr ...\n",
       "THREE THE LAURENCE BOY \"Jo! Jo! Where are you?\" cried Me ...\n",
       "FOUR BURDENS \"Oh, dear, how hard it does seem to take up ...\n",
       "FIVE BEING NEIGHBORLY \"What in the world are you going t ...\n",
       "SIX BETH FINDS THE PALACE BEAUTIFUL The big house did pr ...\n",
       "SEVEN AMY'S VALLEY OF HUMILIATION \"That boy is a perfect ...\n",
       "EIGHT JO MEETS APOLLYON \"Girls, where are you going?\" as ...\n",
       "NINE MEG GOES TO VANITY FAIR \"I do think it was the most ...\n",
       "TEN THE P.C. AND P.O. As spring came on, a new set of am ...\n",
       "... (37 rows omitted)"
      ]
     },
     "execution_count": 10,
     "metadata": {},
     "output_type": "execute_result"
    }
   ],
   "source": [
    "little_women_url = 'https://www.inferentialthinking.com/data/little_women.txt'\n",
    "little_women_text = read_url(little_women_url)\n",
    "little_women_chapters = little_women_text.split('CHAPTER ')[1:]\n",
    "Table().with_columns('Chapters ', little_women_chapters)"
   ]
  },
  {
   "cell_type": "markdown",
   "metadata": {},
   "source": [
    "## How to make code that are often appear?"
   ]
  },
  {
   "cell_type": "code",
   "execution_count": 11,
   "metadata": {},
   "outputs": [
    {
     "name": "stdout",
     "output_type": "stream",
     "text": [
      "Jim  | Tom  | Huck\n",
      "0    | 6    | 3\n",
      "16   | 24   | 2\n",
      "0    | 5    | 2\n",
      "8    | 0    | 1\n",
      "0    | 0    | 0\n",
      "0    | 0    | 2\n",
      "0    | 2    | 0\n",
      "22   | 2    | 5\n",
      "11   | 0    | 1\n",
      "19   | 0    | 0\n",
      "... (33 rows omitted)\n"
     ]
    }
   ],
   "source": [
    "from datascience import *\n",
    "import numpy as np\n",
    "counts = Table().with_columns([\n",
    "        'Jim', np.char.count(huck_finn_chapters,'Jim'),\n",
    "        'Tom', np.char.count(huck_finn_chapters, 'Tom'),\n",
    "        'Huck', np.char.count(huck_finn_chapters, 'Huck')\n",
    "    ])\n",
    "print(counts)"
   ]
  },
  {
   "cell_type": "code",
   "execution_count": 12,
   "metadata": {},
   "outputs": [],
   "source": [
    "# 적용연습\n",
    "#count_wch = Table().with_columns([\n",
    "#        'Search Target Label ', np.char.count(little_women_chapters,'Search Target Name ')\n",
    "#    ])\n",
    "#print(count_wch)"
   ]
  },
  {
   "cell_type": "code",
   "execution_count": 13,
   "metadata": {},
   "outputs": [
    {
     "name": "stdout",
     "output_type": "stream",
     "text": [
      "Jim  | Tom  | Huck | Chapter\n",
      "0    | 6    | 3    | 1\n",
      "16   | 30   | 5    | 2\n",
      "16   | 35   | 7    | 3\n",
      "24   | 35   | 8    | 4\n",
      "24   | 35   | 8    | 5\n",
      "24   | 35   | 10   | 6\n",
      "24   | 37   | 10   | 7\n",
      "46   | 39   | 15   | 8\n",
      "57   | 39   | 16   | 9\n",
      "76   | 39   | 16   | 10\n",
      "... (33 rows omitted)\n"
     ]
    },
    {
     "data": {
      "image/png": "[encoded data removed]",
      "text/plain": [
       "<Figure size 432x432 with 1 Axes>"
      ]
     },
     "metadata": {
      "needs_background": "light"
     },
     "output_type": "display_data"
    }
   ],
   "source": [
    "import warnings\n",
    "warnings.simplefilter(action=\"ignore\", category=FutureWarning) # error 무시\n",
    "\n",
    "cum_counts = counts.cumsum().with_columns('Chapter ', np.arange(1, 44, 1)) # cumsum = 누적합\n",
    "print(cum_counts)\n",
    "cum_counts.plot(column_for_xticks=3)\n",
    "plt.title('Cumulatvie Number of Times Each Name Apears');"
   ]
  },
  {
   "cell_type": "markdown",
   "metadata": {},
   "source": [
    "#### cumsum 이해하기"
   ]
  },
  {
   "cell_type": "code",
   "execution_count": 14,
   "metadata": {},
   "outputs": [
    {
     "name": "stdout",
     "output_type": "stream",
     "text": [
      "[[ 1  2]\n",
      " [ 3  4]\n",
      " [ 5  6]\n",
      " [ 7  8]\n",
      " [ 9 10]]\n",
      "55\n",
      "[ 1  3  6 10 15 21 28 36 45 55]\n"
     ]
    }
   ],
   "source": [
    "a = np.arange(1,11).reshape(5,2)\n",
    "print(a)\n",
    "print(a.sum())\n",
    "print(a.cumsum()) # 더하는 과정을 보여줌"
   ]
  },
  {
   "cell_type": "code",
   "execution_count": 15,
   "metadata": {},
   "outputs": [
    {
     "data": {
      "text/html": [
       "<table border=\"1\" class=\"dataframe\">\n",
       "    <thead>\n",
       "        <tr>\n",
       "            <th>Amy</th> <th>Beth</th> <th>Jo</th> <th>Meg</th> <th>Laurie</th>\n",
       "        </tr>\n",
       "    </thead>\n",
       "    <tbody>\n",
       "        <tr>\n",
       "            <td>23  </td> <td>26  </td> <td>44  </td> <td>26  </td> <td>0     </td>\n",
       "        </tr>\n",
       "        <tr>\n",
       "            <td>13  </td> <td>12  </td> <td>21  </td> <td>20  </td> <td>0     </td>\n",
       "        </tr>\n",
       "        <tr>\n",
       "            <td>2   </td> <td>2   </td> <td>62  </td> <td>36  </td> <td>16    </td>\n",
       "        </tr>\n",
       "        <tr>\n",
       "            <td>14  </td> <td>18  </td> <td>34  </td> <td>17  </td> <td>0     </td>\n",
       "        </tr>\n",
       "        <tr>\n",
       "            <td>6   </td> <td>14  </td> <td>55  </td> <td>13  </td> <td>35    </td>\n",
       "        </tr>\n",
       "        <tr>\n",
       "            <td>6   </td> <td>28  </td> <td>13  </td> <td>5   </td> <td>9     </td>\n",
       "        </tr>\n",
       "        <tr>\n",
       "            <td>27  </td> <td>5   </td> <td>9   </td> <td>5   </td> <td>7     </td>\n",
       "        </tr>\n",
       "        <tr>\n",
       "            <td>48  </td> <td>9   </td> <td>71  </td> <td>16  </td> <td>17    </td>\n",
       "        </tr>\n",
       "        <tr>\n",
       "            <td>3   </td> <td>5   </td> <td>21  </td> <td>71  </td> <td>24    </td>\n",
       "        </tr>\n",
       "        <tr>\n",
       "            <td>5   </td> <td>5   </td> <td>12  </td> <td>4   </td> <td>4     </td>\n",
       "        </tr>\n",
       "    </tbody>\n",
       "</table>\n",
       "<p>... (37 rows omitted)</p>"
      ],
      "text/plain": [
       "Amy  | Beth | Jo   | Meg  | Laurie\n",
       "23   | 26   | 44   | 26   | 0\n",
       "13   | 12   | 21   | 20   | 0\n",
       "2    | 2    | 62   | 36   | 16\n",
       "14   | 18   | 34   | 17   | 0\n",
       "6    | 14   | 55   | 13   | 35\n",
       "6    | 28   | 13   | 5    | 9\n",
       "27   | 5    | 9    | 5    | 7\n",
       "48   | 9    | 71   | 16   | 17\n",
       "3    | 5    | 21   | 71   | 24\n",
       "5    | 5    | 12   | 4    | 4\n",
       "... (37 rows omitted)"
      ]
     },
     "execution_count": 15,
     "metadata": {},
     "output_type": "execute_result"
    }
   ],
   "source": [
    "counts_lw = Table().with_columns([\n",
    "            'Amy', np.char.count(little_women_chapters, 'Amy'),\n",
    "            'Beth', np.char.count(little_women_chapters, 'Beth'),\n",
    "            'Jo', np.char.count(little_women_chapters, 'Jo'),\n",
    "            'Meg', np.char.count(little_women_chapters, 'Meg'),\n",
    "            'Laurie', np.char.count(little_women_chapters, 'Laurie')\n",
    "])\n",
    "counts_lw"
   ]
  },
  {
   "cell_type": "code",
   "execution_count": 16,
   "metadata": {},
   "outputs": [
    {
     "data": {
      "image/png": "[encoded data removed]",
      "text/plain": [
       "<Figure size 432x432 with 1 Axes>"
      ]
     },
     "metadata": {
      "needs_background": "light"
     },
     "output_type": "display_data"
    }
   ],
   "source": [
    "cum_counts_lw = counts_lw.cumsum().with_column('Chapter', np.arange(1,48,1))\n",
    "cum_counts_lw.plot(column_for_xticks=5)\n",
    "plt.title('Cumulative Number of Times Each Name Appears');"
   ]
  },
  {
   "cell_type": "markdown",
   "metadata": {},
   "source": [
    "## Chapter 길이와 문장수 관계"
   ]
  },
  {
   "cell_type": "code",
   "execution_count": 24,
   "metadata": {},
   "outputs": [
    {
     "data": {
      "text/html": [
       "<table border=\"1\" class=\"dataframe\">\n",
       "    <thead>\n",
       "        <tr>\n",
       "            <th>Huck Finn Chpater Length</th> <th>Number of Periods</th>\n",
       "        </tr>\n",
       "    </thead>\n",
       "    <tbody>\n",
       "        <tr>\n",
       "            <td>7026                    </td> <td>66               </td>\n",
       "        </tr>\n",
       "        <tr>\n",
       "            <td>11982                   </td> <td>117              </td>\n",
       "        </tr>\n",
       "        <tr>\n",
       "            <td>8529                    </td> <td>72               </td>\n",
       "        </tr>\n",
       "        <tr>\n",
       "            <td>6799                    </td> <td>84               </td>\n",
       "        </tr>\n",
       "        <tr>\n",
       "            <td>8166                    </td> <td>91               </td>\n",
       "        </tr>\n",
       "        <tr>\n",
       "            <td>14550                   </td> <td>125              </td>\n",
       "        </tr>\n",
       "        <tr>\n",
       "            <td>13218                   </td> <td>127              </td>\n",
       "        </tr>\n",
       "        <tr>\n",
       "            <td>22208                   </td> <td>249              </td>\n",
       "        </tr>\n",
       "        <tr>\n",
       "            <td>8081                    </td> <td>71               </td>\n",
       "        </tr>\n",
       "        <tr>\n",
       "            <td>7036                    </td> <td>70               </td>\n",
       "        </tr>\n",
       "    </tbody>\n",
       "</table>\n",
       "<p>... (33 rows omitted)</p>"
      ],
      "text/plain": [
       "Huck Finn Chpater Length | Number of Periods\n",
       "7026                     | 66\n",
       "11982                    | 117\n",
       "8529                     | 72\n",
       "6799                     | 84\n",
       "8166                     | 91\n",
       "14550                    | 125\n",
       "13218                    | 127\n",
       "22208                    | 249\n",
       "8081                     | 71\n",
       "7036                     | 70\n",
       "... (33 rows omitted)"
      ]
     },
     "execution_count": 24,
     "metadata": {},
     "output_type": "execute_result"
    }
   ],
   "source": [
    "# In each chapter, count the number of all characters\n",
    "# 각 챕터에서, 모든 캐릭터들의 수 세기\n",
    "# call this the \"length\" of the chapter\n",
    "# 이를 \"챕터의 길이\"라고 한다.\n",
    "# Also count the number of periods.\n",
    "# 또한, 문장의 수도 센다.\n",
    "chars_periods_huck_finn = Table().with_columns([\n",
    "    'Huck Finn Chpater Length', [len(s) for s in huck_finn_chapters],\n",
    "    'Number of Periods', np.char.count(huck_finn_chapters, '.')\n",
    "])\n",
    "chars_periods_huck_finn"
   ]
  },
  {
   "cell_type": "code",
   "execution_count": 25,
   "metadata": {},
   "outputs": [
    {
     "data": {
      "text/html": [
       "<table border=\"1\" class=\"dataframe\">\n",
       "    <thead>\n",
       "        <tr>\n",
       "            <th>Little Women Chapter Length</th> <th>Number of Periods</th>\n",
       "        </tr>\n",
       "    </thead>\n",
       "    <tbody>\n",
       "        <tr>\n",
       "            <td>21759                      </td> <td>189              </td>\n",
       "        </tr>\n",
       "        <tr>\n",
       "            <td>22148                      </td> <td>188              </td>\n",
       "        </tr>\n",
       "        <tr>\n",
       "            <td>20558                      </td> <td>231              </td>\n",
       "        </tr>\n",
       "        <tr>\n",
       "            <td>25526                      </td> <td>195              </td>\n",
       "        </tr>\n",
       "        <tr>\n",
       "            <td>23395                      </td> <td>255              </td>\n",
       "        </tr>\n",
       "        <tr>\n",
       "            <td>14622                      </td> <td>140              </td>\n",
       "        </tr>\n",
       "        <tr>\n",
       "            <td>14431                      </td> <td>131              </td>\n",
       "        </tr>\n",
       "        <tr>\n",
       "            <td>22476                      </td> <td>214              </td>\n",
       "        </tr>\n",
       "        <tr>\n",
       "            <td>33767                      </td> <td>337              </td>\n",
       "        </tr>\n",
       "        <tr>\n",
       "            <td>18508                      </td> <td>185              </td>\n",
       "        </tr>\n",
       "    </tbody>\n",
       "</table>\n",
       "<p>... (37 rows omitted)</p>"
      ],
      "text/plain": [
       "Little Women Chapter Length | Number of Periods\n",
       "21759                       | 189\n",
       "22148                       | 188\n",
       "20558                       | 231\n",
       "25526                       | 195\n",
       "23395                       | 255\n",
       "14622                       | 140\n",
       "14431                       | 131\n",
       "22476                       | 214\n",
       "33767                       | 337\n",
       "18508                       | 185\n",
       "... (37 rows omitted)"
      ]
     },
     "execution_count": 25,
     "metadata": {},
     "output_type": "execute_result"
    }
   ],
   "source": [
    "chars_periods_little_women = Table().with_columns([\n",
    "    'Little Women Chapter Length', [len(s) for s in little_women_chapters],\n",
    "    'Number of Periods', np.char.count(little_women_chapters, '.')\n",
    "])\n",
    "chars_periods_little_women"
   ]
  },
  {
   "cell_type": "code",
   "execution_count": 27,
   "metadata": {},
   "outputs": [
    {
     "data": {
      "text/plain": [
       "Text(0, 0.5, 'Number of Characters in Chapter')"
      ]
     },
     "execution_count": 27,
     "metadata": {},
     "output_type": "execute_result"
    },
    {
     "data": {
      "image/png": "[encoded data removed]",
      "text/plain": [
       "<Figure size 432x432 with 1 Axes>"
      ]
     },
     "metadata": {},
     "output_type": "display_data"
    }
   ],
   "source": [
    "plt.figure(figsize=(6,6))\n",
    "plt.scatter(chars_periods_huck_finn.column(1),\n",
    "             chars_periods_huck_finn.column(0),\n",
    "             color='blue', label='Huck Finn')\n",
    "plt.scatter(chars_periods_little_women.column(1),\n",
    "             chars_periods_little_women.column(0),\n",
    "             color='red', label='Little Women')\n",
    "\n",
    "plt.legend()\n",
    "plt.xlabel('Number of Periods in Chapter')\n",
    "plt.ylabel('Number of Characters in Chapter')"
   ]
  },
  {
   "cell_type": "markdown",
   "metadata": {},
   "source": [
    "# Ch9. Randomness"
   ]
  },
  {
   "cell_type": "code",
   "execution_count": 1,
   "metadata": {},
   "outputs": [],
   "source": [
    "from datascience import *\n",
    "import numpy as np\n",
    "%matplotlib inline\n",
    "import matplotlib.pyplot as plots\n",
    "plots.style.use('fivethirtyeight')\n",
    "fpath='https://raw.githubusercontent.com/data-8/textbook/878363106db4313de925a709b1617d6f328c56a1/assets/data/'"
   ]
  },
  {
   "cell_type": "code",
   "execution_count": 19,
   "metadata": {},
   "outputs": [],
   "source": [
    "def other_one(x, a_b):\n",
    "    \n",
    "    \"\"\"Compare x with the two elements of a_b;\n",
    "    if it is equal to one of them, return the other one;\n",
    "    if it is not equal to either of them, return an error message.\n",
    "    \"\"\"\n",
    "    if x == a_b.item(0): # 첫번째 원소와 같다면\n",
    "        return a_b.item(1) # 두번째 원소를 반환\n",
    "    \n",
    "    elif x == a_b.item(1): # 두번째 원소와 같다면\n",
    "        return a_b.item(0) # 첫번째 원소 반환\n",
    "    \n",
    "    else:\n",
    "        return 'The input is not valid.'"
   ]
  },
  {
   "cell_type": "code",
   "execution_count": 20,
   "metadata": {},
   "outputs": [
    {
     "data": {
      "text/plain": [
       "'blue'"
      ]
     },
     "execution_count": 20,
     "metadata": {},
     "output_type": "execute_result"
    }
   ],
   "source": [
    "#Ex otehr_one function\n",
    "colors = make_array('red','blue')\n",
    "other_one('red', colors) # blue가 반환됨을 알 수 있음"
   ]
  },
  {
   "cell_type": "code",
   "execution_count": 21,
   "metadata": {},
   "outputs": [
    {
     "data": {
      "text/plain": [
       "array(['Tails', 'Heads', 'Heads', 'Heads', 'Heads'], dtype='<U32')"
      ]
     },
     "execution_count": 21,
     "metadata": {},
     "output_type": "execute_result"
    }
   ],
   "source": [
    "# 동전 던지기\n",
    "coin = make_array('Heads', 'Tails')\n",
    "outcomes = make_array()\n",
    "\n",
    "for i in np.arange(5):\n",
    "    outcome_of_toss = np.random.choice(coin) # 동전 던진 결과 선택\n",
    "    outcomes = np.append(outcomes, outcome_of_toss) # 결과를 저장\n",
    "\n",
    "outcomes # 결과 출력"
   ]
  },
  {
   "cell_type": "code",
   "execution_count": 22,
   "metadata": {},
   "outputs": [
    {
     "data": {
      "text/plain": [
       "array(['Tails', 'Tails', 'Tails', 'Heads', 'Tails'], dtype='<U5')"
      ]
     },
     "execution_count": 22,
     "metadata": {},
     "output_type": "execute_result"
    }
   ],
   "source": [
    "another_outcomes = np.random.choice(coin, 5) # 동전 던지는 횟수 지정(5번)\n",
    "another_outcomes"
   ]
  },
  {
   "cell_type": "code",
   "execution_count": 23,
   "metadata": {},
   "outputs": [],
   "source": [
    "num = np.arange(1,46)"
   ]
  },
  {
   "cell_type": "markdown",
   "metadata": {},
   "source": [
    "## 9 - Ex1) The Monty Hall Problem"
   ]
  },
  {
   "cell_type": "markdown",
   "metadata": {},
   "source": [
    "# Ch2. Casuality and Experiments"
   ]
  },
  {
   "cell_type": "markdown",
   "metadata": {},
   "source": [
    " - Casuality = 인과관계(Cause and Effect)\n",
    " - 두 단계의 분석이 일반적으로 필요\n",
    "    - Association : treatment(변수,factor)과 outcome(결과, effect) 사이에 상관성 존재\n",
    "    - Casuality : 그러한 상관성에 인과관계가 존재"
   ]
  },
  {
   "cell_type": "markdown",
   "metadata": {},
   "source": [
    "# Ch3. Sequences"
   ]
  },
  {
   "cell_type": "markdown",
   "metadata": {},
   "source": [
    "### In datascience module..\n",
    " - make_array : 배열 생성\n",
    "    - array는 수식에 사용 가능하며 벡터 연산 효율적"
   ]
  },
  {
   "cell_type": "code",
   "execution_count": 2,
   "metadata": {},
   "outputs": [
    {
     "data": {
      "text/plain": [
       "array(['noun', 'pronoun', 'verb', 'adverb', 'adjective', 'conjunction',\n",
       "       'preposition', 'interjection'], dtype='<U12')"
      ]
     },
     "execution_count": 2,
     "metadata": {},
     "output_type": "execute_result"
    }
   ],
   "source": [
    "from datascience import *\n",
    "english_parts_of_speech = make_array(\"noun\", \"pronoun\", \"verb\", \"adverb\", \"adjective\", \"conjunction\", \"preposition\", \"interjection\")\n",
    "english_parts_of_speech"
   ]
  },
  {
   "cell_type": "code",
   "execution_count": 3,
   "metadata": {},
   "outputs": [
    {
     "data": {
      "text/plain": [
       "array([13.6  , 14.387, 14.585, 15.164])"
      ]
     },
     "execution_count": 3,
     "metadata": {},
     "output_type": "execute_result"
    }
   ],
   "source": [
    "baseline_high = 14.48\n",
    "highs = make_array(baseline_high - 0.880, baseline_high - 0.093,\n",
    "                   baseline_high + 0.105, baseline_high + 0.684)\n",
    "highs"
   ]
  },
  {
   "cell_type": "markdown",
   "metadata": {},
   "source": [
    "### numpy function / method"
   ]
  },
  {
   "cell_type": "markdown",
   "metadata": {},
   "source": [
    "#### Input : array, Output : single value\n",
    "\n",
    "|Function|Description|\n",
    "--|--\n",
    "| np.prod | Multiply all elements together |\n",
    "| np.sum  | Add all elements together |\n",
    "| np.all  | Test whether all elements are true values (non-zero numbers are true) |\n",
    "| np.any  | Test whether any elements are true values (non-zero numbers are true) |\n",
    "| np.count_nonzero  | Count the number of non-zero elements |"
   ]
  },
  {
   "cell_type": "code",
   "execution_count": 9,
   "metadata": {},
   "outputs": [
    {
     "name": "stdout",
     "output_type": "stream",
     "text": [
      "np.prod :  43274.231214608\n",
      "\n",
      "np.sum :  57.736000000000004\n",
      "\n",
      "np.all :  True\n",
      "\n",
      "np.any :  True\n",
      "\n",
      "np.count_nonzero :  8\n"
     ]
    }
   ],
   "source": [
    "np_prod = np.prod(highs) # 원소들의 곱\n",
    "np_sum = np.sum(highs) # 원소들의 합\n",
    "np_all = np.all(highs) # 모든 원소가 참인가\n",
    "np_any = np.any(highs) # 참인 원소가 단 하나라도 존재하는가\n",
    "np_count_nonzero = np.count_nonzero(english_parts_of_speech) # 거짓이 아닌 값의 개수\n",
    "print(\"np.prod : \", np_prod)\n",
    "print(\"\\nnp.sum : \", np_sum)\n",
    "print(\"\\nnp.all : \", np_all)\n",
    "print(\"\\nnp.any : \", np_any)\n",
    "print(\"\\nnp.count_nonzero : \", np_count_nonzero)\n",
    "# count_nonzero를 제외하고 모두 문자열 배열에는 사용 불가"
   ]
  },
  {
   "cell_type": "markdown",
   "metadata": {},
   "source": [
    "#### Input : array, Output : array\n",
    "\n",
    "|Function|Description|\n",
    "--|--\n",
    "| np.diff   | Difference between adjacent elements |\n",
    "| np.round  | Round each number to the nearest integer (whole number) |\n",
    "| np.cumprod  | A cumulative product: for each element, multiply all elements so far  |\n",
    "| np.exp  | Exponentiate each element |\n",
    "| np.log  | Take the natural logarithm of each element |\n",
    "| np.sqrt  | Take the square root of each element |\n",
    "| np.sort  | Sort the elements |"
   ]
  },
  {
   "cell_type": "markdown",
   "metadata": {},
   "source": []
  }
 ],
 "metadata": {
  "interpreter": {
   "hash": "23d75174b31ca4fcf71687e5660e0534c2f456560373f0bf6ae035518c9290e4"
  },
  "kernelspec": {
   "display_name": "Python 3.10.2 64-bit",
   "language": "python",
   "name": "python3"
  },
  "language_info": {
   "codemirror_mode": {
    "name": "ipython",
    "version": 3
   },
   "file_extension": ".py",
   "mimetype": "text/x-python",
   "name": "python",
   "nbconvert_exporter": "python",
   "pygments_lexer": "ipython3",
   "version": "3.10.2"
  },
  "orig_nbformat": 4
 },
 "nbformat": 4,
 "nbformat_minor": 2
}
