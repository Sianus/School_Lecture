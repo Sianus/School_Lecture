{
 "cells": [
  {
   "cell_type": "markdown",
   "metadata": {},
   "source": [
    "import = 모듈을 불러올 때 사용하는 것 (C의 #include와 유사)"
   ]
  },
  {
   "cell_type": "markdown",
   "metadata": {},
   "source": [
    "import numpy as np\n",
    "\n",
    "= numpy라는 모듈을 불러올 때 np라는 약어를 사용할 것임"
   ]
  },
  {
   "cell_type": "code",
   "execution_count": 10,
   "metadata": {},
   "outputs": [
    {
     "data": {
      "text/plain": [
       "array('i', [0, 1, 2, 3, 4, 5, 6, 7, 8, 9])"
      ]
     },
     "execution_count": 10,
     "metadata": {},
     "output_type": "execute_result"
    }
   ],
   "source": [
    "import array\n",
    "L = list(range(10))\n",
    "A = array.array('i', L)\n",
    "A\n"
   ]
  },
  {
   "cell_type": "markdown",
   "metadata": {},
   "source": [
    "list = 원소의 자료형이 자유료움\n",
    "\n",
    "array = 원소의 자료형이 고정되어있다."
   ]
  },
  {
   "cell_type": "markdown",
   "metadata": {},
   "source": [
    "np.~ = 전부 배열형식으로 저장\n",
    "    \n",
    "    => 즉, np에 존재하는 function은 반환값이 모두 fixed-type array\n",
    "\n",
    "np.array = 배열 제작\n",
    "* array에서 정수와 실수가 혼합되면 upcast\n",
    "* upcast : 더 큰 자료형으로 통일화\n",
    "\n",
    "(만약 float과 int형을 array에 넣게되면 float>int 이므로 float으로 통일)\n",
    "\n",
    "np.zeros(n, dtype) = (행,열)이 n자리에 갈 수 있음.\n",
    "\n",
    "그리고 zeros 는 n만큼 0으로 채우는 것\n",
    "\n",
    "np.ones 가 1로 채우는 것\n",
    "\n",
    "np.full(n, x) = n 만큼 x로 가득 채우는 것\n",
    "\n",
    "np.arange(start, last, distance)\n",
    "\n",
    "np.linspace(start, last, 등분 기준)\n",
    "\n",
    "np.random.random(row,colums) = 0과 1 사이의 숫자를 무작위 출력\n",
    "\n",
    "    ==> 특정 규칙을 가지고있음\n",
    "    ==> 해결방안) seed 사용\n",
    "    * np.random.seed(n)\n",
    "        - n을 대입하게되면 그 값은 항상 같은 random값을 반환\n",
    "        - 이를 해결하려면 빈 칸으로 두면 됨.\n",
    "        - 빈칸으로 실행 시, 시간값을 변수로 가지게 됨.\n",
    "            * 시스템시간은 import timne , time.time() 을 통해서 구함.\n",
    "\n",
    "np.random.normal(평균, 표준편차, (row, colums))\n",
    "\n",
    "np.random.randint(start, last, (row, colums))\n",
    "\n",
    "np.eye(n) = 대각선\n",
    "\n",
    "np.empty(size) = size만큼 공간만 할당.(empty 값은 컴퓨터에 따라 다르게 초기화)\n",
    "\n",
    ".ndim = the number of dimensions. 배열의 차원 수 or 배열의 축 수\n",
    "\n",
    ".shape = 배열 각 차원의 크기를 튜플 형태로 표현.(n행 m열) = (n, m)\n",
    "\n",
    ".size = 배열의 크기\n",
    "\n",
    ".itemsize = 배열 원소 하나의 크기를 바이트로 표현\n",
    "\n",
    ".nbytes = 배열 전체 크기를 bytes로 반환 ==> itemsize x size"
   ]
  },
  {
   "cell_type": "code",
   "execution_count": 11,
   "metadata": {},
   "outputs": [
    {
     "data": {
      "text/plain": [
       "array([3.14, 4.  , 3.  ])"
      ]
     },
     "execution_count": 11,
     "metadata": {},
     "output_type": "execute_result"
    }
   ],
   "source": [
    "import numpy as np\n",
    "np.array([1,4,2,5,3])\n",
    "np.array([3.14, 4, 3])\n",
    "np.array([1,3,4], dtype='float32')\n",
    "np.array([range(i, i+3) for i in [2,4,6]])\n",
    "np.zeros(10, dtype=int)\n",
    "np.ones((3,5), dtype=float)\n",
    "np.zeros((3,2,4), dtype=int)\n",
    "np.full((3,5), 3.14)\n",
    "np.arange(0,20, 2)\n",
    "np.linspace(0,1,5)\n",
    "np.random.random((3,3))\n",
    "np.random.normal((3,3))\n",
    "np.random.randint(0, 10, (3,3))\n",
    "np.eye(3)\n",
    "np.empty(3)"
   ]
  },
  {
   "cell_type": "markdown",
   "metadata": {},
   "source": [
    "## INDEXING\n",
    "\n",
    "배열에 있는 원소에 붙는 번호\n",
    "\n",
    "0에서부터 시작 n-1 까지.\n",
    "\n",
    "그리고 n-1번째 = -1 로 표현 가능\n",
    "\n",
    "그럼 n-2 번째 = -2 로 표현\n",
    "\n",
    "list가 아닌 array인 경우, 하나의 데이터형만을 저장한다.\n",
    "\n",
    "그래서 정수형 array에 특정 인덱스에 접근해서 float형으로 변경하면 정보 손실이 발생한다\n",
    "    => 아래의 예시를 보면 1이 3.14로 변경되어야 하는데, 3으로 변경되었다.\n",
    "    이는, array가 fixed-type이라서 그런 것이다.\n",
    "    또한, .14가 손실되는 정보 손실을 확인할 수 있다.\n",
    "\n",
    "## Slicing\n",
    "\n",
    "array[start:last:distance(step)]\n",
    "\n",
    "    - 공백으로 남겨두면 각각의 끝을 나타냄\n",
    "        => 즉, start 가 공백이면 0번부터, last 가 공백이면 마지막 인덱스\n",
    "    \n",
    "    - distace가 공백이면 없는 것과 같다.\n",
    "\n",
    "distance(step)이 음수이면 역순 array를 생성. start와 last가 서로 바뀜\n",
    "\n",
    "다차원 배열의 경우 '\",\"'를 이용하여 차원 구분\n",
    "\n",
    "## SubArrays\n",
    "\n",
    "Sub에 원본 파일을 slice해서 가져오고,\n",
    "\n",
    "이후 Sub에서 값을 수정하면 원본 값도 변경이 된다.\n",
    "    ==> 만약, 원본에 영향을 주지 않고 실험을 해보고 싶으면,\n",
    "    Sub = 원본([~:~, ~:~]).copy() 를 사용하면 완전 복사된다.\n",
    "\n",
    "\n",
    "## Reshaping\n",
    "\n",
    "처음 선언한 배열의 형태(row,colums)을 새롭게 지정하는 것이다.\n",
    "\n",
    "np.newaxis = 차원을 하나 증가시킨다.\n",
    "\n",
    "    ==> axis가 차원, 축을 의미(in python)\n",
    "    * x.reshpae((row,colums)) = 차원 여러 개 증감 가능\n",
    "    * x[np.newaxis, :] = 차원 하나 증가만 가능\n",
    "        - x[row, colums] 형식이고,\n",
    "        - row 자리에 np.newaxis가 들어가면 행 차원이 증가\n",
    "        - colums 자리에 np.newaxis가 들어가면 열 차원이 증가\n"
   ]
  },
  {
   "cell_type": "code",
   "execution_count": 10,
   "metadata": {},
   "outputs": [
    {
     "data": {
      "text/plain": [
       "array([3, 2, 3, 4])"
      ]
     },
     "execution_count": 10,
     "metadata": {},
     "output_type": "execute_result"
    }
   ],
   "source": [
    "# 정보 손실 example\n",
    "x = np.array([1,2,3,4])\n",
    "x[0] = 3.14\n",
    "x"
   ]
  },
  {
   "cell_type": "code",
   "execution_count": 21,
   "metadata": {},
   "outputs": [
    {
     "data": {
      "text/plain": [
       "array([[1, 2, 3, 4]])"
      ]
     },
     "execution_count": 21,
     "metadata": {},
     "output_type": "execute_result"
    }
   ],
   "source": [
    "a = np.arange(1,10)\n",
    "a[np.newaxis, :]"
   ]
  },
  {
   "cell_type": "code",
   "execution_count": 19,
   "metadata": {},
   "outputs": [
    {
     "data": {
      "text/plain": [
       "array([[1],\n",
       "       [2],\n",
       "       [3],\n",
       "       [4]])"
      ]
     },
     "execution_count": 19,
     "metadata": {},
     "output_type": "execute_result"
    }
   ],
   "source": [
    "x[:, np.newaxis]"
   ]
  },
  {
   "cell_type": "markdown",
   "metadata": {},
   "source": [
    "1차원 = 직선\n",
    "2차원 = 평면\n",
    "3차원 = 입체도형\n",
    "reshape를 이용하여 차원 변경 가능"
   ]
  },
  {
   "cell_type": "code",
   "execution_count": 12,
   "metadata": {},
   "outputs": [
    {
     "data": {
      "text/plain": [
       "array([[1, 2],\n",
       "       [3, 4],\n",
       "       [5, 6]])"
      ]
     },
     "execution_count": 12,
     "metadata": {},
     "output_type": "execute_result"
    }
   ],
   "source": [
    "test = np.arange(1,7)\n",
    "test.reshape(3,-1)\n",
    "# reshape에 -1이 들어가면 그 값은 추론됨."
   ]
  },
  {
   "cell_type": "code",
   "execution_count": null,
   "metadata": {},
   "outputs": [],
   "source": []
  }
 ],
 "metadata": {
  "interpreter": {
   "hash": "0e5b1a455fe019568411487e5e7555da71b65cbe5d441ba032f2ff5a4f201a9e"
  },
  "kernelspec": {
   "display_name": "Python 3.10.2 64-bit",
   "language": "python",
   "name": "python3"
  },
  "language_info": {
   "codemirror_mode": {
    "name": "ipython",
    "version": 3
   },
   "file_extension": ".py",
   "mimetype": "text/x-python",
   "name": "python",
   "nbconvert_exporter": "python",
   "pygments_lexer": "ipython3",
   "version": "3.10.2"
  },
  "orig_nbformat": 4
 },
 "nbformat": 4,
 "nbformat_minor": 2
}
