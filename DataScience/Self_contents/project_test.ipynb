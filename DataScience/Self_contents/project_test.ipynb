{
 "cells": [
  {
   "cell_type": "code",
   "execution_count": 50,
   "metadata": {},
   "outputs": [],
   "source": [
    "from datascience import *\n",
    "import numpy as np\n",
    "import matplotlib as mpl\n",
    "import matplotlib.pyplot as plt\n",
    "import pandas as pd\n",
    "fpath = \"A:\\\\Git\\\\School\\\\DataScience\\\\Project\\\\Suicid\\\\archive\\\\who_suicide_statistics.csv\""
   ]
  },
  {
   "cell_type": "code",
   "execution_count": 51,
   "metadata": {},
   "outputs": [
    {
     "data": {
      "text/html": [
       "<table border=\"1\" class=\"dataframe\">\n",
       "    <thead>\n",
       "        <tr>\n",
       "            <th>country</th> <th>year</th> <th>sex</th> <th>age</th> <th>suicides_no</th> <th>population</th>\n",
       "        </tr>\n",
       "    </thead>\n",
       "    <tbody>\n",
       "        <tr>\n",
       "            <td>Albania</td> <td>1985</td> <td>female</td> <td>15-24 years</td> <td>nan        </td> <td>277900    </td>\n",
       "        </tr>\n",
       "        <tr>\n",
       "            <td>Albania</td> <td>1985</td> <td>female</td> <td>25-34 years</td> <td>nan        </td> <td>246800    </td>\n",
       "        </tr>\n",
       "        <tr>\n",
       "            <td>Albania</td> <td>1985</td> <td>female</td> <td>35-54 years</td> <td>nan        </td> <td>267500    </td>\n",
       "        </tr>\n",
       "        <tr>\n",
       "            <td>Albania</td> <td>1985</td> <td>female</td> <td>5-14 years </td> <td>nan        </td> <td>298300    </td>\n",
       "        </tr>\n",
       "        <tr>\n",
       "            <td>Albania</td> <td>1985</td> <td>female</td> <td>55-74 years</td> <td>nan        </td> <td>138700    </td>\n",
       "        </tr>\n",
       "        <tr>\n",
       "            <td>Albania</td> <td>1985</td> <td>female</td> <td>75+ years  </td> <td>nan        </td> <td>34200     </td>\n",
       "        </tr>\n",
       "        <tr>\n",
       "            <td>Albania</td> <td>1985</td> <td>male  </td> <td>15-24 years</td> <td>nan        </td> <td>301400    </td>\n",
       "        </tr>\n",
       "        <tr>\n",
       "            <td>Albania</td> <td>1985</td> <td>male  </td> <td>25-34 years</td> <td>nan        </td> <td>264200    </td>\n",
       "        </tr>\n",
       "        <tr>\n",
       "            <td>Albania</td> <td>1985</td> <td>male  </td> <td>35-54 years</td> <td>nan        </td> <td>296700    </td>\n",
       "        </tr>\n",
       "        <tr>\n",
       "            <td>Albania</td> <td>1985</td> <td>male  </td> <td>5-14 years </td> <td>nan        </td> <td>325800    </td>\n",
       "        </tr>\n",
       "    </tbody>\n",
       "</table>\n",
       "<p>... (43766 rows omitted)</p>"
      ],
      "text/plain": [
       "country | year | sex    | age         | suicides_no | population\n",
       "Albania | 1985 | female | 15-24 years | nan         | 277900\n",
       "Albania | 1985 | female | 25-34 years | nan         | 246800\n",
       "Albania | 1985 | female | 35-54 years | nan         | 267500\n",
       "Albania | 1985 | female | 5-14 years  | nan         | 298300\n",
       "Albania | 1985 | female | 55-74 years | nan         | 138700\n",
       "Albania | 1985 | female | 75+ years   | nan         | 34200\n",
       "Albania | 1985 | male   | 15-24 years | nan         | 301400\n",
       "Albania | 1985 | male   | 25-34 years | nan         | 264200\n",
       "Albania | 1985 | male   | 35-54 years | nan         | 296700\n",
       "Albania | 1985 | male   | 5-14 years  | nan         | 325800\n",
       "... (43766 rows omitted)"
      ]
     },
     "execution_count": 51,
     "metadata": {},
     "output_type": "execute_result"
    }
   ],
   "source": [
    "test = Table.read_table(fpath)\n",
    "test"
   ]
  },
  {
   "cell_type": "code",
   "execution_count": 52,
   "metadata": {},
   "outputs": [
    {
     "data": {
      "text/html": [
       "<table border=\"1\" class=\"dataframe\">\n",
       "    <thead>\n",
       "        <tr>\n",
       "            <th>country</th> <th>year</th> <th>sex</th> <th>age</th> <th>suicides_no</th> <th>population</th>\n",
       "        </tr>\n",
       "    </thead>\n",
       "    <tbody>\n",
       "        <tr>\n",
       "            <td>Albania</td> <td>1990</td> <td>female</td> <td>15-24 years</td> <td>nan        </td> <td>305900    </td>\n",
       "        </tr>\n",
       "        <tr>\n",
       "            <td>Albania</td> <td>1990</td> <td>female</td> <td>25-34 years</td> <td>nan        </td> <td>278000    </td>\n",
       "        </tr>\n",
       "        <tr>\n",
       "            <td>Albania</td> <td>1990</td> <td>female</td> <td>35-54 years</td> <td>nan        </td> <td>308300    </td>\n",
       "        </tr>\n",
       "        <tr>\n",
       "            <td>Albania</td> <td>1990</td> <td>female</td> <td>5-14 years </td> <td>nan        </td> <td>329600    </td>\n",
       "        </tr>\n",
       "        <tr>\n",
       "            <td>Albania</td> <td>1990</td> <td>female</td> <td>55-74 years</td> <td>nan        </td> <td>156400    </td>\n",
       "        </tr>\n",
       "        <tr>\n",
       "            <td>Albania</td> <td>1990</td> <td>female</td> <td>75+ years  </td> <td>nan        </td> <td>37600     </td>\n",
       "        </tr>\n",
       "        <tr>\n",
       "            <td>Albania</td> <td>1990</td> <td>male  </td> <td>15-24 years</td> <td>nan        </td> <td>325600    </td>\n",
       "        </tr>\n",
       "        <tr>\n",
       "            <td>Albania</td> <td>1990</td> <td>male  </td> <td>25-34 years</td> <td>nan        </td> <td>295100    </td>\n",
       "        </tr>\n",
       "        <tr>\n",
       "            <td>Albania</td> <td>1990</td> <td>male  </td> <td>35-54 years</td> <td>nan        </td> <td>337700    </td>\n",
       "        </tr>\n",
       "        <tr>\n",
       "            <td>Albania</td> <td>1990</td> <td>male  </td> <td>5-14 years </td> <td>nan        </td> <td>355600    </td>\n",
       "        </tr>\n",
       "    </tbody>\n",
       "</table>\n",
       "<p>... (33170 rows omitted)</p>"
      ],
      "text/plain": [
       "country | year | sex    | age         | suicides_no | population\n",
       "Albania | 1990 | female | 15-24 years | nan         | 305900\n",
       "Albania | 1990 | female | 25-34 years | nan         | 278000\n",
       "Albania | 1990 | female | 35-54 years | nan         | 308300\n",
       "Albania | 1990 | female | 5-14 years  | nan         | 329600\n",
       "Albania | 1990 | female | 55-74 years | nan         | 156400\n",
       "Albania | 1990 | female | 75+ years   | nan         | 37600\n",
       "Albania | 1990 | male   | 15-24 years | nan         | 325600\n",
       "Albania | 1990 | male   | 25-34 years | nan         | 295100\n",
       "Albania | 1990 | male   | 35-54 years | nan         | 337700\n",
       "Albania | 1990 | male   | 5-14 years  | nan         | 355600\n",
       "... (33170 rows omitted)"
      ]
     },
     "execution_count": 52,
     "metadata": {},
     "output_type": "execute_result"
    }
   ],
   "source": [
    "# 1990년도부터\n",
    "test=test.where('year', are.above_or_equal_to(1990))\n",
    "test"
   ]
  },
  {
   "cell_type": "code",
   "execution_count": 53,
   "metadata": {},
   "outputs": [
    {
     "data": {
      "text/html": [
       "<table border=\"1\" class=\"dataframe\">\n",
       "    <thead>\n",
       "        <tr>\n",
       "            <th>country</th> <th>year</th> <th>sex</th> <th>age</th> <th>suicides_no</th> <th>population</th>\n",
       "        </tr>\n",
       "    </thead>\n",
       "    <tbody>\n",
       "        <tr>\n",
       "            <td>Albania</td> <td>1992</td> <td>female</td> <td>15-24 years</td> <td>7          </td> <td>292400    </td>\n",
       "        </tr>\n",
       "        <tr>\n",
       "            <td>Albania</td> <td>1992</td> <td>female</td> <td>25-34 years</td> <td>4          </td> <td>267400    </td>\n",
       "        </tr>\n",
       "        <tr>\n",
       "            <td>Albania</td> <td>1992</td> <td>female</td> <td>35-54 years</td> <td>2          </td> <td>323100    </td>\n",
       "        </tr>\n",
       "        <tr>\n",
       "            <td>Albania</td> <td>1992</td> <td>female</td> <td>5-14 years </td> <td>0          </td> <td>336700    </td>\n",
       "        </tr>\n",
       "        <tr>\n",
       "            <td>Albania</td> <td>1992</td> <td>female</td> <td>55-74 years</td> <td>1          </td> <td>164900    </td>\n",
       "        </tr>\n",
       "        <tr>\n",
       "            <td>Albania</td> <td>1992</td> <td>female</td> <td>75+ years  </td> <td>0          </td> <td>38700     </td>\n",
       "        </tr>\n",
       "        <tr>\n",
       "            <td>Albania</td> <td>1992</td> <td>male  </td> <td>15-24 years</td> <td>9          </td> <td>263700    </td>\n",
       "        </tr>\n",
       "        <tr>\n",
       "            <td>Albania</td> <td>1992</td> <td>male  </td> <td>25-34 years</td> <td>7          </td> <td>245500    </td>\n",
       "        </tr>\n",
       "        <tr>\n",
       "            <td>Albania</td> <td>1992</td> <td>male  </td> <td>35-54 years</td> <td>12         </td> <td>343800    </td>\n",
       "        </tr>\n",
       "        <tr>\n",
       "            <td>Albania</td> <td>1992</td> <td>male  </td> <td>5-14 years </td> <td>0          </td> <td>362900    </td>\n",
       "        </tr>\n",
       "    </tbody>\n",
       "</table>\n",
       "<p>... (28010 rows omitted)</p>"
      ],
      "text/plain": [
       "country | year | sex    | age         | suicides_no | population\n",
       "Albania | 1992 | female | 15-24 years | 7           | 292400\n",
       "Albania | 1992 | female | 25-34 years | 4           | 267400\n",
       "Albania | 1992 | female | 35-54 years | 2           | 323100\n",
       "Albania | 1992 | female | 5-14 years  | 0           | 336700\n",
       "Albania | 1992 | female | 55-74 years | 1           | 164900\n",
       "Albania | 1992 | female | 75+ years   | 0           | 38700\n",
       "Albania | 1992 | male   | 15-24 years | 9           | 263700\n",
       "Albania | 1992 | male   | 25-34 years | 7           | 245500\n",
       "Albania | 1992 | male   | 35-54 years | 12          | 343800\n",
       "Albania | 1992 | male   | 5-14 years  | 0           | 362900\n",
       "... (28010 rows omitted)"
      ]
     },
     "execution_count": 53,
     "metadata": {},
     "output_type": "execute_result"
    }
   ],
   "source": [
    "# nan 제거\n",
    "test=test.where('suicides_no', are.above_or_equal_to(0))\n",
    "test=test.where('population', are.above_or_equal_to(0))\n",
    "test"
   ]
  },
  {
   "cell_type": "code",
   "execution_count": 54,
   "metadata": {},
   "outputs": [
    {
     "data": {
      "text/html": [
       "<table border=\"1\" class=\"dataframe\">\n",
       "    <thead>\n",
       "        <tr>\n",
       "            <th>country</th> <th>year</th> <th>sex</th> <th>age</th> <th>suicides_no</th> <th>population</th>\n",
       "        </tr>\n",
       "    </thead>\n",
       "    <tbody>\n",
       "        <tr>\n",
       "            <td>Albania</td> <td>1992</td> <td>female</td> <td>15-24 years</td> <td>7          </td> <td>292400    </td>\n",
       "        </tr>\n",
       "        <tr>\n",
       "            <td>Albania</td> <td>1992</td> <td>female</td> <td>25-34 years</td> <td>4          </td> <td>267400    </td>\n",
       "        </tr>\n",
       "        <tr>\n",
       "            <td>Albania</td> <td>1992</td> <td>female</td> <td>35-54 years</td> <td>2          </td> <td>323100    </td>\n",
       "        </tr>\n",
       "        <tr>\n",
       "            <td>Albania</td> <td>1992</td> <td>female</td> <td>5-14 years </td> <td>0          </td> <td>336700    </td>\n",
       "        </tr>\n",
       "        <tr>\n",
       "            <td>Albania</td> <td>1992</td> <td>female</td> <td>55-74 years</td> <td>1          </td> <td>164900    </td>\n",
       "        </tr>\n",
       "        <tr>\n",
       "            <td>Albania</td> <td>1992</td> <td>female</td> <td>75+ years  </td> <td>0          </td> <td>38700     </td>\n",
       "        </tr>\n",
       "        <tr>\n",
       "            <td>Albania</td> <td>1992</td> <td>male  </td> <td>15-24 years</td> <td>9          </td> <td>263700    </td>\n",
       "        </tr>\n",
       "        <tr>\n",
       "            <td>Albania</td> <td>1992</td> <td>male  </td> <td>25-34 years</td> <td>7          </td> <td>245500    </td>\n",
       "        </tr>\n",
       "        <tr>\n",
       "            <td>Albania</td> <td>1992</td> <td>male  </td> <td>35-54 years</td> <td>12         </td> <td>343800    </td>\n",
       "        </tr>\n",
       "        <tr>\n",
       "            <td>Albania</td> <td>1992</td> <td>male  </td> <td>5-14 years </td> <td>0          </td> <td>362900    </td>\n",
       "        </tr>\n",
       "    </tbody>\n",
       "</table>\n",
       "<p>... (28010 rows omitted)</p>"
      ],
      "text/plain": [
       "country | year | sex    | age         | suicides_no | population\n",
       "Albania | 1992 | female | 15-24 years | 7           | 292400\n",
       "Albania | 1992 | female | 25-34 years | 4           | 267400\n",
       "Albania | 1992 | female | 35-54 years | 2           | 323100\n",
       "Albania | 1992 | female | 5-14 years  | 0           | 336700\n",
       "Albania | 1992 | female | 55-74 years | 1           | 164900\n",
       "Albania | 1992 | female | 75+ years   | 0           | 38700\n",
       "Albania | 1992 | male   | 15-24 years | 9           | 263700\n",
       "Albania | 1992 | male   | 25-34 years | 7           | 245500\n",
       "Albania | 1992 | male   | 35-54 years | 12          | 343800\n",
       "Albania | 1992 | male   | 5-14 years  | 0           | 362900\n",
       "... (28010 rows omitted)"
      ]
     },
     "execution_count": 54,
     "metadata": {},
     "output_type": "execute_result"
    }
   ],
   "source": [
    "test"
   ]
  },
  {
   "cell_type": "code",
   "execution_count": 55,
   "metadata": {},
   "outputs": [],
   "source": [
    "# 전체 데이터에서 자살 비율 상위 5개 국가\n",
    "suicide_sum=test.group(['country', 'year', 'age'], np.sum).select(4,5)\n",
    "test_nosex=test.group(['country', 'year', 'age'], np.sum).drop('sex sum')"
   ]
  },
  {
   "cell_type": "code",
   "execution_count": 72,
   "metadata": {},
   "outputs": [],
   "source": [
    "test_nosex=test_nosex.relabeled('population sum', 'population').relabeled('suicides_no sum', 'suicides no')\n",
    "test_nosex['population']*=1000\n",
    "test_nosex=test_nosex.with_column('percentage', test_nosex['suicides no']/test_nosex['population']*100).sort('percentage', descending=True)"
   ]
  },
  {
   "cell_type": "code",
   "execution_count": 80,
   "metadata": {},
   "outputs": [
    {
     "data": {
      "text/html": [
       "<table border=\"1\" class=\"dataframe\">\n",
       "    <thead>\n",
       "        <tr>\n",
       "            <th>country</th> <th>year</th> <th>age</th> <th>자살수</th> <th>총 인구(단위 : 천명)</th> <th>10만명 당 자살수</th>\n",
       "        </tr>\n",
       "    </thead>\n",
       "    <tbody>\n",
       "        <tr>\n",
       "            <td>Aruba            </td> <td>2000</td> <td>75+ years</td> <td>3   </td> <td>2.488        </td> <td>120.579   </td>\n",
       "        </tr>\n",
       "        <tr>\n",
       "            <td>Hungary          </td> <td>1990</td> <td>75+ years</td> <td>668 </td> <td>569.794      </td> <td>117.235   </td>\n",
       "        </tr>\n",
       "        <tr>\n",
       "            <td>San Marino       </td> <td>1997</td> <td>75+ years</td> <td>2   </td> <td>1.714        </td> <td>116.686   </td>\n",
       "        </tr>\n",
       "        <tr>\n",
       "            <td>Republic of Korea</td> <td>2009</td> <td>75+ years</td> <td>1926</td> <td>1770.1       </td> <td>108.808   </td>\n",
       "        </tr>\n",
       "        <tr>\n",
       "            <td>Republic of Korea</td> <td>2010</td> <td>75+ years</td> <td>2066</td> <td>1906.87      </td> <td>108.345   </td>\n",
       "        </tr>\n",
       "        <tr>\n",
       "            <td>Republic of Korea</td> <td>2004</td> <td>75+ years</td> <td>1417</td> <td>1308.77      </td> <td>108.27    </td>\n",
       "        </tr>\n",
       "        <tr>\n",
       "            <td>Hungary          </td> <td>1991</td> <td>75+ years</td> <td>596 </td> <td>551.274      </td> <td>108.113   </td>\n",
       "        </tr>\n",
       "        <tr>\n",
       "            <td>Republic of Korea</td> <td>2005</td> <td>75+ years</td> <td>1480</td> <td>1385.24      </td> <td>106.84    </td>\n",
       "        </tr>\n",
       "        <tr>\n",
       "            <td>Republic of Korea</td> <td>2011</td> <td>75+ years</td> <td>2170</td> <td>2049.17      </td> <td>105.896   </td>\n",
       "        </tr>\n",
       "        <tr>\n",
       "            <td>Republic of Korea</td> <td>2007</td> <td>75+ years</td> <td>1603</td> <td>1550.28      </td> <td>103.401   </td>\n",
       "        </tr>\n",
       "    </tbody>\n",
       "</table>\n",
       "<p>... (14000 rows omitted)</p>"
      ],
      "text/plain": [
       "country           | year | age       | 자살수  | 총 인구(단위 : 천명) | 10만명 당 자살수\n",
       "Aruba             | 2000 | 75+ years | 3    | 2.488         | 120.579\n",
       "Hungary           | 1990 | 75+ years | 668  | 569.794       | 117.235\n",
       "San Marino        | 1997 | 75+ years | 2    | 1.714         | 116.686\n",
       "Republic of Korea | 2009 | 75+ years | 1926 | 1770.1        | 108.808\n",
       "Republic of Korea | 2010 | 75+ years | 2066 | 1906.87       | 108.345\n",
       "Republic of Korea | 2004 | 75+ years | 1417 | 1308.77       | 108.27\n",
       "Hungary           | 1991 | 75+ years | 596  | 551.274       | 108.113\n",
       "Republic of Korea | 2005 | 75+ years | 1480 | 1385.24       | 106.84\n",
       "Republic of Korea | 2011 | 75+ years | 2170 | 2049.17       | 105.896\n",
       "Republic of Korea | 2007 | 75+ years | 1603 | 1550.28       | 103.401\n",
       "... (14000 rows omitted)"
      ]
     },
     "execution_count": 80,
     "metadata": {},
     "output_type": "execute_result"
    }
   ],
   "source": [
    "test_nosex.relabeled('population', '총 인구(단위 : 천명)').relabeled('suicides no', '자살수').relabeled('percentage', '10만명 당 자살수')"
   ]
  }
 ],
 "metadata": {
  "interpreter": {
   "hash": "23d75174b31ca4fcf71687e5660e0534c2f456560373f0bf6ae035518c9290e4"
  },
  "kernelspec": {
   "display_name": "Python 3.10.2 64-bit",
   "language": "python",
   "name": "python3"
  },
  "language_info": {
   "codemirror_mode": {
    "name": "ipython",
    "version": 3
   },
   "file_extension": ".py",
   "mimetype": "text/x-python",
   "name": "python",
   "nbconvert_exporter": "python",
   "pygments_lexer": "ipython3",
   "version": "3.10.2"
  },
  "orig_nbformat": 4
 },
 "nbformat": 4,
 "nbformat_minor": 2
}
