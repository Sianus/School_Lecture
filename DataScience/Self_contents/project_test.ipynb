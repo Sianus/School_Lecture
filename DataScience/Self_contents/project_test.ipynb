{
 "cells": [
  {
   "cell_type": "code",
   "execution_count": 21,
   "metadata": {},
   "outputs": [
    {
     "data": {
      "text/html": [
       "<table border=\"1\" class=\"dataframe\">\n",
       "    <thead>\n",
       "        <tr>\n",
       "            <th>Unnamed: 0</th> <th>Unnamed: 1</th> <th>Probability (%) of dying between age 30 and exact age 70 from any of cardiovascular disease, cancer, diabetes, or chronic respiratory disease</th> <th>Probability (%) of dying between age 30 and exact age 70 from any of cardiovascular disease, cancer, diabetes, or chronic respiratory disease.1</th> <th>Probability (%) of dying between age 30 and exact age 70 from any of cardiovascular disease, cancer, diabetes, or chronic respiratory disease.2</th> <th>Crude suicide rates (per 100 000 population)</th> <th>Crude suicide rates (per 100 000 population).1</th> <th>Crude suicide rates (per 100 000 population).2</th>\n",
       "        </tr>\n",
       "    </thead>\n",
       "    <tbody>\n",
       "        <tr>\n",
       "            <td>Country    </td> <td>Year      </td> <td>Both sexes                                                                                                                                   </td> <td>Male                                                                                                                                           </td> <td>Female                                                                                                                                         </td> <td>Both sexes                                  </td> <td>Male                                          </td> <td>Female                                        </td>\n",
       "        </tr>\n",
       "        <tr>\n",
       "            <td>Afghanistan</td> <td>2019      </td> <td>35.3 [21.8-49.8]                                                                                                                             </td> <td>34.4 [21.9-47.9]                                                                                                                               </td> <td>36.2 [21.7-51.6]                                                                                                                               </td> <td>4.1 [2.3-7.0]                               </td> <td>4.6 [2.6-7.9]                                 </td> <td>3.6 [2.0-5.9]                                 </td>\n",
       "        </tr>\n",
       "        <tr>\n",
       "            <td>Afghanistan</td> <td>2018      </td> <td>35.4 [21.7-50.1]                                                                                                                             </td> <td>34.7 [22.0-48.5]                                                                                                                               </td> <td>36.0 [21.4-51.6]                                                                                                                               </td> <td>4.1 [2.3-6.8]                               </td> <td>4.6 [2.6-7.8]                                 </td> <td>3.5 [2.0-5.8]                                 </td>\n",
       "        </tr>\n",
       "        <tr>\n",
       "            <td>Afghanistan</td> <td>2017      </td> <td>35.5 [21.7-50.4]                                                                                                                             </td> <td>35.0 [22.0-49.1]                                                                                                                               </td> <td>35.9 [21.3-51.7]                                                                                                                               </td> <td>4.1 [2.3-6.8]                               </td> <td>4.6 [2.7-7.9]                                 </td> <td>3.4 [2.0-5.7]                                 </td>\n",
       "        </tr>\n",
       "        <tr>\n",
       "            <td>Afghanistan</td> <td>2016      </td> <td>35.6 [21.6-50.7]                                                                                                                             </td> <td>35.1 [22.0-49.4]                                                                                                                               </td> <td>36.0 [21.2-51.9]                                                                                                                               </td> <td>4.0 [2.3-6.7]                               </td> <td>4.4 [2.6-7.4]                                 </td> <td>3.6 [2.1-5.9]                                 </td>\n",
       "        </tr>\n",
       "        <tr>\n",
       "            <td>Afghanistan</td> <td>2015      </td> <td>35.6 [21.6-50.8]                                                                                                                             </td> <td>35.4 [22.3-49.8]                                                                                                                               </td> <td>35.7 [21.0-51.7]                                                                                                                               </td> <td>4.0 [2.3-6.6]                               </td> <td>4.3 [2.5-7.3]                                 </td> <td>3.6 [2.0-5.9]                                 </td>\n",
       "        </tr>\n",
       "        <tr>\n",
       "            <td>Afghanistan</td> <td>2014      </td> <td>35.7 [21.8-51.0]                                                                                                                             </td> <td>35.7 [22.5-50.1]                                                                                                                               </td> <td>35.7 [21.0-51.8]                                                                                                                               </td> <td>3.9 [2.3-6.6]                               </td> <td>4.2 [2.5-7.2]                                 </td> <td>3.6 [2.1-5.9]                                 </td>\n",
       "        </tr>\n",
       "        <tr>\n",
       "            <td>Afghanistan</td> <td>2013      </td> <td>36.2 [22.1-51.5]                                                                                                                             </td> <td>36.2 [23.0-50.8]                                                                                                                               </td> <td>36.1 [21.3-52.1]                                                                                                                               </td> <td>4.0 [2.3-6.7]                               </td> <td>4.3 [2.5-7.4]                                 </td> <td>3.7 [2.1-6.0]                                 </td>\n",
       "        </tr>\n",
       "        <tr>\n",
       "            <td>Afghanistan</td> <td>2012      </td> <td>36.6 [22.4-52.0]                                                                                                                             </td> <td>36.8 [23.4-51.5]                                                                                                                               </td> <td>36.3 [21.5-52.5]                                                                                                                               </td> <td>4.0 [2.3-6.6]                               </td> <td>4.3 [2.5-7.3]                                 </td> <td>3.7 [2.2-6.0]                                 </td>\n",
       "        </tr>\n",
       "        <tr>\n",
       "            <td>Afghanistan</td> <td>2011      </td> <td>37.1 [22.8-52.7]                                                                                                                             </td> <td>37.5 [23.9-52.4]                                                                                                                               </td> <td>36.8 [21.8-53.0]                                                                                                                               </td> <td>4.1 [2.4-6.8]                               </td> <td>4.5 [2.6-7.5]                                 </td> <td>3.8 [2.2-6.1]                                 </td>\n",
       "        </tr>\n",
       "    </tbody>\n",
       "</table>\n",
       "<p>... (3651 rows omitted)</p>"
      ],
      "text/plain": [
       "Unnamed: 0  | Unnamed: 1 | Probability (%) of dying between age 30 and exact age 70 from any of cardiovascular disease, cancer, diabetes, or chronic respiratory disease | Probability (%) of dying between age 30 and exact age 70 from any of cardiovascular disease, cancer, diabetes, or chronic respiratory disease.1 | Probability (%) of dying between age 30 and exact age 70 from any of cardiovascular disease, cancer, diabetes, or chronic respiratory disease.2 | Crude suicide rates (per 100 000 population) | Crude suicide rates (per 100 000 population).1 | Crude suicide rates (per 100 000 population).2\n",
       "Country     | Year       | Both sexes                                                                                                                                    | Male                                                                                                                                            | Female                                                                                                                                          | Both sexes                                   | Male                                           | Female\n",
       "Afghanistan | 2019       | 35.3 [21.8-49.8]                                                                                                                              | 34.4 [21.9-47.9]                                                                                                                                | 36.2 [21.7-51.6]                                                                                                                                | 4.1 [2.3-7.0]                                | 4.6 [2.6-7.9]                                  | 3.6 [2.0-5.9]\n",
       "Afghanistan | 2018       | 35.4 [21.7-50.1]                                                                                                                              | 34.7 [22.0-48.5]                                                                                                                                | 36.0 [21.4-51.6]                                                                                                                                | 4.1 [2.3-6.8]                                | 4.6 [2.6-7.8]                                  | 3.5 [2.0-5.8]\n",
       "Afghanistan | 2017       | 35.5 [21.7-50.4]                                                                                                                              | 35.0 [22.0-49.1]                                                                                                                                | 35.9 [21.3-51.7]                                                                                                                                | 4.1 [2.3-6.8]                                | 4.6 [2.7-7.9]                                  | 3.4 [2.0-5.7]\n",
       "Afghanistan | 2016       | 35.6 [21.6-50.7]                                                                                                                              | 35.1 [22.0-49.4]                                                                                                                                | 36.0 [21.2-51.9]                                                                                                                                | 4.0 [2.3-6.7]                                | 4.4 [2.6-7.4]                                  | 3.6 [2.1-5.9]\n",
       "Afghanistan | 2015       | 35.6 [21.6-50.8]                                                                                                                              | 35.4 [22.3-49.8]                                                                                                                                | 35.7 [21.0-51.7]                                                                                                                                | 4.0 [2.3-6.6]                                | 4.3 [2.5-7.3]                                  | 3.6 [2.0-5.9]\n",
       "Afghanistan | 2014       | 35.7 [21.8-51.0]                                                                                                                              | 35.7 [22.5-50.1]                                                                                                                                | 35.7 [21.0-51.8]                                                                                                                                | 3.9 [2.3-6.6]                                | 4.2 [2.5-7.2]                                  | 3.6 [2.1-5.9]\n",
       "Afghanistan | 2013       | 36.2 [22.1-51.5]                                                                                                                              | 36.2 [23.0-50.8]                                                                                                                                | 36.1 [21.3-52.1]                                                                                                                                | 4.0 [2.3-6.7]                                | 4.3 [2.5-7.4]                                  | 3.7 [2.1-6.0]\n",
       "Afghanistan | 2012       | 36.6 [22.4-52.0]                                                                                                                              | 36.8 [23.4-51.5]                                                                                                                                | 36.3 [21.5-52.5]                                                                                                                                | 4.0 [2.3-6.6]                                | 4.3 [2.5-7.3]                                  | 3.7 [2.2-6.0]\n",
       "Afghanistan | 2011       | 37.1 [22.8-52.7]                                                                                                                              | 37.5 [23.9-52.4]                                                                                                                                | 36.8 [21.8-53.0]                                                                                                                                | 4.1 [2.4-6.8]                                | 4.5 [2.6-7.5]                                  | 3.8 [2.2-6.1]\n",
       "... (3651 rows omitted)"
      ]
     },
     "execution_count": 21,
     "metadata": {},
     "output_type": "execute_result"
    }
   ],
   "source": [
    "from datascience import *\n",
    "fpath = 'A:\\Git\\School\\DataScience\\Project\\Suicid'\n",
    "test = Table.read_table(fpath+'\\data.csv')\n",
    "test"
   ]
  },
  {
   "cell_type": "code",
   "execution_count": 31,
   "metadata": {},
   "outputs": [
    {
     "data": {
      "text/html": [
       "<table border=\"1\" class=\"dataframe\">\n",
       "    <thead>\n",
       "        <tr>\n",
       "            <th>name</th> <th>count</th>\n",
       "        </tr>\n",
       "    </thead>\n",
       "    <tbody>\n",
       "        <tr>\n",
       "            <td>Republic of Korea</td> <td>20   </td>\n",
       "        </tr>\n",
       "    </tbody>\n",
       "</table>"
      ],
      "text/plain": [
       "name              | count\n",
       "Republic of Korea | 20"
      ]
     },
     "execution_count": 31,
     "metadata": {},
     "output_type": "execute_result"
    }
   ],
   "source": [
    "test.relabel(0, 'name')\n",
    "test.group('name').where('name', 'Republic of Korea')"
   ]
  },
  {
   "cell_type": "code",
   "execution_count": null,
   "metadata": {},
   "outputs": [],
   "source": []
  }
 ],
 "metadata": {
  "interpreter": {
   "hash": "23d75174b31ca4fcf71687e5660e0534c2f456560373f0bf6ae035518c9290e4"
  },
  "kernelspec": {
   "display_name": "Python 3.10.2 64-bit",
   "language": "python",
   "name": "python3"
  },
  "language_info": {
   "codemirror_mode": {
    "name": "ipython",
    "version": 3
   },
   "file_extension": ".py",
   "mimetype": "text/x-python",
   "name": "python",
   "nbconvert_exporter": "python",
   "pygments_lexer": "ipython3",
   "version": "3.10.2"
  },
  "orig_nbformat": 4
 },
 "nbformat": 4,
 "nbformat_minor": 2
}
