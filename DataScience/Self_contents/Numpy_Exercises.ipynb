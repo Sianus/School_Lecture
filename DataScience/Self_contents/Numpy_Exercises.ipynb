{
 "cells": [
  {
   "cell_type": "code",
   "execution_count": 1,
   "metadata": {},
   "outputs": [],
   "source": [
    "import numpy as np"
   ]
  },
  {
   "cell_type": "markdown",
   "metadata": {},
   "source": [
    "We can use built-in array module.\n",
    "\n",
    "The built-in means, we don't need to download and install it. Because, it comes with native Python."
   ]
  },
  {
   "cell_type": "markdown",
   "metadata": {},
   "source": [
    "* What is Ndarray \n",
    "\n",
    "The ndarray is N-dimension array.\n",
    "\n",
    "Differnece between Ndarray and list is the elements data-type.\n",
    "\n",
    "The List is Dynamic-type array, so, It can use various data type.\n",
    "\n",
    "But, The ndarray is can use only one data type."
   ]
  },
  {
   "cell_type": "code",
   "execution_count": 2,
   "metadata": {},
   "outputs": [
    {
     "data": {
      "text/plain": [
       "array([1, 4, 2, 5, 3])"
      ]
     },
     "execution_count": 2,
     "metadata": {},
     "output_type": "execute_result"
    }
   ],
   "source": [
    "np.array([1, 4, 2, 5, 3])\n",
    "# This command is create Numpy array from Python list.\n",
    "# And, I have to remember this form.\n",
    "# array is method, so we have to use ().\n",
    "# And, np.array is from Python list, so, we have to write list-form in ()."
   ]
  },
  {
   "cell_type": "markdown",
   "metadata": {},
   "source": [
    "* range(a,b)\n",
    "\n",
    "This mean return integer from a to b-1.\n"
   ]
  },
  {
   "cell_type": "code",
   "execution_count": 3,
   "metadata": {},
   "outputs": [
    {
     "data": {
      "text/plain": [
       "array([[2, 3, 4],\n",
       "       [4, 5, 6],\n",
       "       [6, 7, 8]])"
      ]
     },
     "execution_count": 3,
     "metadata": {},
     "output_type": "execute_result"
    }
   ],
   "source": [
    "np.array([range(i, i+3) for i in [2,4,6]])\n",
    "# We can make multi-dimension array.\n",
    "# And we have to use list-comprehension, because, use memory efficiently."
   ]
  },
  {
   "cell_type": "markdown",
   "metadata": {},
   "source": [
    "np.arange is similar to the built in range() function.\n",
    "\n",
    "np.arange() can use this form.\n",
    "\n",
    "But, range() can't use np.range().\n",
    "\n",
    "This have to use like this. np.array(range())\n"
   ]
  },
  {
   "cell_type": "code",
   "execution_count": 10,
   "metadata": {},
   "outputs": [
    {
     "name": "stdout",
     "output_type": "stream",
     "text": [
      "[1 2 3 4 5 6 7 8 9]\n",
      "[1 2 3 4 5 6 7 8 9]\n"
     ]
    }
   ],
   "source": [
    "x = np.arange(1,10)\n",
    "y = np.array(range(1,10))\n",
    "print(x)\n",
    "print(y)"
   ]
  },
  {
   "cell_type": "markdown",
   "metadata": {},
   "source": [
    "In numpy, the sub_array is not new copy data.\n",
    "\n",
    "In other words, when we slice the data in sub_array, the original array is changed too.\n",
    "\n",
    "Defualt : The normal form. 특정한 어떤 것으로 지정해서 변경가능하나, 우리가 특정 값을 지정하지 않았을 때 사용되는 기본형을 default 값이라고 함."
   ]
  },
  {
   "cell_type": "markdown",
   "metadata": {},
   "source": []
  }
 ],
 "metadata": {
  "interpreter": {
   "hash": "0e5b1a455fe019568411487e5e7555da71b65cbe5d441ba032f2ff5a4f201a9e"
  },
  "kernelspec": {
   "display_name": "Python 3.10.2 64-bit",
   "language": "python",
   "name": "python3"
  },
  "language_info": {
   "codemirror_mode": {
    "name": "ipython",
    "version": 3
   },
   "file_extension": ".py",
   "mimetype": "text/x-python",
   "name": "python",
   "nbconvert_exporter": "python",
   "pygments_lexer": "ipython3",
   "version": "3.10.2"
  },
  "orig_nbformat": 4
 },
 "nbformat": 4,
 "nbformat_minor": 2
}
