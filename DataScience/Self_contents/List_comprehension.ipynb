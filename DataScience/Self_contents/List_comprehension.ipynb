{
 "cells": [
  {
   "cell_type": "markdown",
   "metadata": {},
   "source": [
    "## Python List는 데이터 타입 여러개를 원소로 할 수 있는 Dynamic-type Array다"
   ]
  },
  {
   "cell_type": "markdown",
   "metadata": {},
   "source": [
    "# List Comprehension\n",
    "\n",
    "### 1. 배열을 선언한다\n",
    " - 선언은 배열의 크기를 정하고 배열을 특정 이름의 변수에 할당하는 것을 포함한다.\n",
    "### 2. 배열의 각 원소에 값을 할당한다."
   ]
  },
  {
   "cell_type": "code",
   "execution_count": 2,
   "metadata": {},
   "outputs": [
    {
     "name": "stdout",
     "output_type": "stream",
     "text": [
      "[0, 2, 4, 6, 8, 10, 12, 14, 16, 18]\n"
     ]
    }
   ],
   "source": [
    "#예시\n",
    "size = 10\n",
    "arr = [0] * size\n",
    "for i in range(size) :\n",
    "    arr[i] = i * 2\n",
    "\n",
    "print(arr)"
   ]
  },
  {
   "cell_type": "markdown",
   "metadata": {},
   "source": [
    "List comprehension = 리스트를 쉽게, 짧게 한 줄로 만들 수 있는 파이썬 문법\n",
    "\n",
    "## List Comprehension 문법\n",
    "[(변수를 활용한 값) for (사용할 변수 이름) in (순회할 수 있는 값)]\n",
    "\n",
    "* 변수를 활용한 값 - 위의 예시에서 i*2에 해당.\n",
    "* 사용할 변수 이름 - 위의 예시에서 i에 해당\n",
    "* 순회할 수 있는 값 - range처럼 값을 하나씩 살펴볼 수 있는 것을 총칭\n",
    "(Iterable)"
   ]
  },
  {
   "cell_type": "code",
   "execution_count": 3,
   "metadata": {},
   "outputs": [
    {
     "name": "stdout",
     "output_type": "stream",
     "text": [
      "[0, 2, 4, 6, 8, 10, 12, 14, 16, 18]\n"
     ]
    }
   ],
   "source": [
    "size = 10\n",
    "arr = [i * 2 for i in range(size)]\n",
    "\n",
    "print(arr)"
   ]
  },
  {
   "cell_type": "markdown",
   "metadata": {},
   "source": [
    "위에 작성된 두 예시의 결과가 같음을 알 수 있다.\n",
    "추가적으로 공부할 때 list comprehenshion과 관련된 자료가 필요하다면\n",
    "아래의 링크에 들어가자\n",
    "https://shoark7.github.io/programming/python/about-list-comprehension-python"
   ]
  }
 ],
 "metadata": {
  "interpreter": {
   "hash": "0e5b1a455fe019568411487e5e7555da71b65cbe5d441ba032f2ff5a4f201a9e"
  },
  "kernelspec": {
   "display_name": "Python 3.10.2 64-bit",
   "language": "python",
   "name": "python3"
  },
  "language_info": {
   "codemirror_mode": {
    "name": "ipython",
    "version": 3
   },
   "file_extension": ".py",
   "mimetype": "text/x-python",
   "name": "python",
   "nbconvert_exporter": "python",
   "pygments_lexer": "ipython3",
   "version": "3.10.2"
  },
  "orig_nbformat": 4
 },
 "nbformat": 4,
 "nbformat_minor": 2
}
